{
 "cells": [
  {
   "cell_type": "markdown",
   "id": "825c6ffd-a28e-42e6-824d-b2386ec3e338",
   "metadata": {},
   "source": [
    "# pip install seaborn"
   ]
  },
  {
   "cell_type": "code",
   "execution_count": 2,
   "id": "08e234d3-5334-4151-a7d3-0b0539b0ca04",
   "metadata": {},
   "outputs": [],
   "source": [
    "import pandas as pd\n",
    "import numpy as np\n",
    "import sklearn\n",
    "import matplotlib.pyplot as plt"
   ]
  },
  {
   "cell_type": "code",
   "execution_count": 3,
   "id": "6d580c83-3bdb-4049-9ad3-996697956cd0",
   "metadata": {},
   "outputs": [],
   "source": [
    "import tensorflow as tf\n",
    "from tensorflow import keras\n",
    "from tensorflow.keras.models import Sequential\n",
    "from tensorflow.keras.layers import Conv1D, MaxPooling1D, Flatten, Dense, Dropout\n",
    "from sklearn.model_selection import train_test_split\n",
    "from sklearn.preprocessing import StandardScaler, LabelEncoder\n",
    "from sklearn.metrics import confusion_matrix, classification_report\n",
    "import seaborn as sns\n",
    "from tensorflow.keras.regularizers import l2"
   ]
  },
  {
   "cell_type": "code",
   "execution_count": 3,
   "id": "ed7926aa-2326-41c1-ad48-1bb8adbf5f41",
   "metadata": {},
   "outputs": [],
   "source": [
    "datadd = pd.read_csv(\"D:\\\\R&D\\\\TrafficLabelling\\\\Friday-WorkingHours-Afternoon-DDos.pcap_ISCX.csv\")\n",
    "dataps = pd.read_csv(\"D:\\\\R&D\\\\TrafficLabelling\\\\Friday-WorkingHours-Afternoon-PortScan.pcap_ISCX.csv\")\n",
    "dataif = pd.read_csv(\"D:\\\\R&D\\\\TrafficLabelling\\\\Thursday-WorkingHours-Afternoon-Infilteration.pcap_ISCX.csv\")"
   ]
  },
  {
   "cell_type": "code",
   "execution_count": 4,
   "id": "16213009-1a1d-4a66-95e4-4335df994cae",
   "metadata": {},
   "outputs": [
    {
     "data": {
      "text/plain": [
       "array(['BENIGN', 'Infiltration'], dtype=object)"
      ]
     },
     "execution_count": 4,
     "metadata": {},
     "output_type": "execute_result"
    }
   ],
   "source": [
    "dataif[' Label'].unique()"
   ]
  },
  {
   "cell_type": "code",
   "execution_count": 7,
   "id": "94fe0bd3-4463-4b39-9039-42ed9e5991ac",
   "metadata": {},
   "outputs": [
    {
     "data": {
      "text/plain": [
       "array(['BENIGN', 'PortScan'], dtype=object)"
      ]
     },
     "execution_count": 7,
     "metadata": {},
     "output_type": "execute_result"
    }
   ],
   "source": [
    "dataps[' Label'].unique()"
   ]
  },
  {
   "cell_type": "code",
   "execution_count": 8,
   "id": "8a393867-257a-4f32-9b06-d5aff841af70",
   "metadata": {},
   "outputs": [
    {
     "data": {
      "text/plain": [
       "array(['BENIGN', 'DDoS'], dtype=object)"
      ]
     },
     "execution_count": 8,
     "metadata": {},
     "output_type": "execute_result"
    }
   ],
   "source": [
    "datadd[' Label'].unique()"
   ]
  },
  {
   "cell_type": "code",
   "execution_count": 9,
   "id": "df741741-9628-48d4-b847-096b1ec4a5e3",
   "metadata": {},
   "outputs": [
    {
     "name": "stdout",
     "output_type": "stream",
     "text": [
      "1\n",
      "1\n"
     ]
    }
   ],
   "source": [
    "if (list(dataif.columns) == list(dataps.columns)):\n",
    "    print(1)\n",
    "if (list(datadd.columns) == list(dataps.columns)):\n",
    "    print(1)"
   ]
  },
  {
   "cell_type": "markdown",
   "id": "f9674771-24fb-4aef-9afe-2595af882ae9",
   "metadata": {},
   "source": [
    "# GOING ON THE DDoS"
   ]
  },
  {
   "cell_type": "code",
   "execution_count": 10,
   "id": "2690b529-3682-4829-9397-d1d6a1693abe",
   "metadata": {},
   "outputs": [
    {
     "data": {
      "text/html": [
       "<div>\n",
       "<style scoped>\n",
       "    .dataframe tbody tr th:only-of-type {\n",
       "        vertical-align: middle;\n",
       "    }\n",
       "\n",
       "    .dataframe tbody tr th {\n",
       "        vertical-align: top;\n",
       "    }\n",
       "\n",
       "    .dataframe thead th {\n",
       "        text-align: right;\n",
       "    }\n",
       "</style>\n",
       "<table border=\"1\" class=\"dataframe\">\n",
       "  <thead>\n",
       "    <tr style=\"text-align: right;\">\n",
       "      <th></th>\n",
       "      <th>Flow ID</th>\n",
       "      <th>Source IP</th>\n",
       "      <th>Source Port</th>\n",
       "      <th>Destination IP</th>\n",
       "      <th>Destination Port</th>\n",
       "      <th>Protocol</th>\n",
       "      <th>Timestamp</th>\n",
       "      <th>Flow Duration</th>\n",
       "      <th>Total Fwd Packets</th>\n",
       "      <th>Total Backward Packets</th>\n",
       "      <th>Total Length of Fwd Packets</th>\n",
       "      <th>Total Length of Bwd Packets</th>\n",
       "      <th>Fwd Packet Length Max</th>\n",
       "      <th>Fwd Packet Length Min</th>\n",
       "      <th>Fwd Packet Length Mean</th>\n",
       "      <th>Fwd Packet Length Std</th>\n",
       "      <th>Bwd Packet Length Max</th>\n",
       "      <th>Bwd Packet Length Min</th>\n",
       "      <th>Bwd Packet Length Mean</th>\n",
       "      <th>Bwd Packet Length Std</th>\n",
       "      <th>Flow Bytes/s</th>\n",
       "      <th>Flow Packets/s</th>\n",
       "      <th>Flow IAT Mean</th>\n",
       "      <th>Flow IAT Std</th>\n",
       "      <th>Flow IAT Max</th>\n",
       "      <th>Flow IAT Min</th>\n",
       "      <th>Fwd IAT Total</th>\n",
       "      <th>Fwd IAT Mean</th>\n",
       "      <th>Fwd IAT Std</th>\n",
       "      <th>Fwd IAT Max</th>\n",
       "      <th>Fwd IAT Min</th>\n",
       "      <th>Bwd IAT Total</th>\n",
       "      <th>Bwd IAT Mean</th>\n",
       "      <th>Bwd IAT Std</th>\n",
       "      <th>Bwd IAT Max</th>\n",
       "      <th>Bwd IAT Min</th>\n",
       "      <th>Fwd PSH Flags</th>\n",
       "      <th>Bwd PSH Flags</th>\n",
       "      <th>Fwd URG Flags</th>\n",
       "      <th>Bwd URG Flags</th>\n",
       "      <th>Fwd Header Length</th>\n",
       "      <th>Bwd Header Length</th>\n",
       "      <th>Fwd Packets/s</th>\n",
       "      <th>Bwd Packets/s</th>\n",
       "      <th>Min Packet Length</th>\n",
       "      <th>Max Packet Length</th>\n",
       "      <th>Packet Length Mean</th>\n",
       "      <th>Packet Length Std</th>\n",
       "      <th>Packet Length Variance</th>\n",
       "      <th>FIN Flag Count</th>\n",
       "      <th>SYN Flag Count</th>\n",
       "      <th>RST Flag Count</th>\n",
       "      <th>PSH Flag Count</th>\n",
       "      <th>ACK Flag Count</th>\n",
       "      <th>URG Flag Count</th>\n",
       "      <th>CWE Flag Count</th>\n",
       "      <th>ECE Flag Count</th>\n",
       "      <th>Down/Up Ratio</th>\n",
       "      <th>Average Packet Size</th>\n",
       "      <th>Avg Fwd Segment Size</th>\n",
       "      <th>Avg Bwd Segment Size</th>\n",
       "      <th>Fwd Header Length.1</th>\n",
       "      <th>Fwd Avg Bytes/Bulk</th>\n",
       "      <th>Fwd Avg Packets/Bulk</th>\n",
       "      <th>Fwd Avg Bulk Rate</th>\n",
       "      <th>Bwd Avg Bytes/Bulk</th>\n",
       "      <th>Bwd Avg Packets/Bulk</th>\n",
       "      <th>Bwd Avg Bulk Rate</th>\n",
       "      <th>Subflow Fwd Packets</th>\n",
       "      <th>Subflow Fwd Bytes</th>\n",
       "      <th>Subflow Bwd Packets</th>\n",
       "      <th>Subflow Bwd Bytes</th>\n",
       "      <th>Init_Win_bytes_forward</th>\n",
       "      <th>Init_Win_bytes_backward</th>\n",
       "      <th>act_data_pkt_fwd</th>\n",
       "      <th>min_seg_size_forward</th>\n",
       "      <th>Active Mean</th>\n",
       "      <th>Active Std</th>\n",
       "      <th>Active Max</th>\n",
       "      <th>Active Min</th>\n",
       "      <th>Idle Mean</th>\n",
       "      <th>Idle Std</th>\n",
       "      <th>Idle Max</th>\n",
       "      <th>Idle Min</th>\n",
       "      <th>Label</th>\n",
       "    </tr>\n",
       "  </thead>\n",
       "  <tbody>\n",
       "    <tr>\n",
       "      <th>0</th>\n",
       "      <td>192.168.10.5-104.16.207.165-54865-443-6</td>\n",
       "      <td>104.16.207.165</td>\n",
       "      <td>443</td>\n",
       "      <td>192.168.10.5</td>\n",
       "      <td>54865</td>\n",
       "      <td>6</td>\n",
       "      <td>7/7/2017 3:30</td>\n",
       "      <td>3</td>\n",
       "      <td>2</td>\n",
       "      <td>0</td>\n",
       "      <td>12</td>\n",
       "      <td>0</td>\n",
       "      <td>6</td>\n",
       "      <td>6</td>\n",
       "      <td>6.0</td>\n",
       "      <td>0.0</td>\n",
       "      <td>0</td>\n",
       "      <td>0</td>\n",
       "      <td>0.0</td>\n",
       "      <td>0.0</td>\n",
       "      <td>4000000.0</td>\n",
       "      <td>666666.6667</td>\n",
       "      <td>3.0</td>\n",
       "      <td>0.0</td>\n",
       "      <td>3</td>\n",
       "      <td>3</td>\n",
       "      <td>3</td>\n",
       "      <td>3.0</td>\n",
       "      <td>0.0</td>\n",
       "      <td>3</td>\n",
       "      <td>3</td>\n",
       "      <td>0</td>\n",
       "      <td>0.0</td>\n",
       "      <td>0.0</td>\n",
       "      <td>0</td>\n",
       "      <td>0</td>\n",
       "      <td>0</td>\n",
       "      <td>0</td>\n",
       "      <td>0</td>\n",
       "      <td>0</td>\n",
       "      <td>40</td>\n",
       "      <td>0</td>\n",
       "      <td>666666.6667</td>\n",
       "      <td>0.0</td>\n",
       "      <td>6</td>\n",
       "      <td>6</td>\n",
       "      <td>6.0</td>\n",
       "      <td>0.0</td>\n",
       "      <td>0.0</td>\n",
       "      <td>0</td>\n",
       "      <td>0</td>\n",
       "      <td>0</td>\n",
       "      <td>0</td>\n",
       "      <td>1</td>\n",
       "      <td>0</td>\n",
       "      <td>0</td>\n",
       "      <td>0</td>\n",
       "      <td>0</td>\n",
       "      <td>9.0</td>\n",
       "      <td>6.0</td>\n",
       "      <td>0.0</td>\n",
       "      <td>40</td>\n",
       "      <td>0</td>\n",
       "      <td>0</td>\n",
       "      <td>0</td>\n",
       "      <td>0</td>\n",
       "      <td>0</td>\n",
       "      <td>0</td>\n",
       "      <td>2</td>\n",
       "      <td>12</td>\n",
       "      <td>0</td>\n",
       "      <td>0</td>\n",
       "      <td>33</td>\n",
       "      <td>-1</td>\n",
       "      <td>1</td>\n",
       "      <td>20</td>\n",
       "      <td>0.0</td>\n",
       "      <td>0.0</td>\n",
       "      <td>0</td>\n",
       "      <td>0</td>\n",
       "      <td>0.0</td>\n",
       "      <td>0.0</td>\n",
       "      <td>0</td>\n",
       "      <td>0</td>\n",
       "      <td>BENIGN</td>\n",
       "    </tr>\n",
       "  </tbody>\n",
       "</table>\n",
       "</div>"
      ],
      "text/plain": [
       "                                   Flow ID       Source IP   Source Port  ...  Idle Max   Idle Min   Label\n",
       "0  192.168.10.5-104.16.207.165-54865-443-6  104.16.207.165           443  ...         0          0  BENIGN\n",
       "\n",
       "[1 rows x 85 columns]"
      ]
     },
     "execution_count": 10,
     "metadata": {},
     "output_type": "execute_result"
    }
   ],
   "source": [
    "datadd[:1]"
   ]
  },
  {
   "cell_type": "code",
   "execution_count": 11,
   "id": "fb9bc8a2-b500-48ee-bfde-9af7320306f5",
   "metadata": {},
   "outputs": [
    {
     "name": "stdout",
     "output_type": "stream",
     "text": [
      "1\n"
     ]
    }
   ],
   "source": [
    "if (datadd['Total Length of Fwd Packets'].iloc[0] / datadd[' Total Fwd Packets'].iloc[0]) == datadd[' Fwd Packet Length Mean'].iloc[0]:\n",
    "    print(1)\n",
    "else:\n",
    "    print(0)\n"
   ]
  },
  {
   "cell_type": "code",
   "execution_count": 12,
   "id": "0fc5a322-0142-4445-9293-b6388163bdcd",
   "metadata": {},
   "outputs": [
    {
     "data": {
      "text/plain": [
       "1"
      ]
     },
     "execution_count": 12,
     "metadata": {},
     "output_type": "execute_result"
    }
   ],
   "source": [
    "datadd[' SYN Flag Count'].max()"
   ]
  },
  {
   "cell_type": "code",
   "execution_count": 13,
   "id": "fab82f78-6f93-4196-816d-b366454e6591",
   "metadata": {},
   "outputs": [
    {
     "data": {
      "text/html": [
       "<div>\n",
       "<style scoped>\n",
       "    .dataframe tbody tr th:only-of-type {\n",
       "        vertical-align: middle;\n",
       "    }\n",
       "\n",
       "    .dataframe tbody tr th {\n",
       "        vertical-align: top;\n",
       "    }\n",
       "\n",
       "    .dataframe thead th {\n",
       "        text-align: right;\n",
       "    }\n",
       "</style>\n",
       "<table border=\"1\" class=\"dataframe\">\n",
       "  <thead>\n",
       "    <tr style=\"text-align: right;\">\n",
       "      <th></th>\n",
       "      <th>Flow ID</th>\n",
       "      <th>Source IP</th>\n",
       "      <th>Source Port</th>\n",
       "      <th>Destination IP</th>\n",
       "      <th>Destination Port</th>\n",
       "      <th>Protocol</th>\n",
       "      <th>Timestamp</th>\n",
       "      <th>Flow Duration</th>\n",
       "      <th>Total Fwd Packets</th>\n",
       "      <th>Total Backward Packets</th>\n",
       "      <th>Total Length of Fwd Packets</th>\n",
       "      <th>Total Length of Bwd Packets</th>\n",
       "      <th>Fwd Packet Length Max</th>\n",
       "      <th>Fwd Packet Length Min</th>\n",
       "      <th>Fwd Packet Length Mean</th>\n",
       "      <th>Fwd Packet Length Std</th>\n",
       "      <th>Bwd Packet Length Max</th>\n",
       "      <th>Bwd Packet Length Min</th>\n",
       "      <th>Bwd Packet Length Mean</th>\n",
       "      <th>Bwd Packet Length Std</th>\n",
       "      <th>Flow Bytes/s</th>\n",
       "      <th>Flow Packets/s</th>\n",
       "      <th>Flow IAT Mean</th>\n",
       "      <th>Flow IAT Std</th>\n",
       "      <th>Flow IAT Max</th>\n",
       "      <th>Flow IAT Min</th>\n",
       "      <th>Fwd IAT Total</th>\n",
       "      <th>Fwd IAT Mean</th>\n",
       "      <th>Fwd IAT Std</th>\n",
       "      <th>Fwd IAT Max</th>\n",
       "      <th>Fwd IAT Min</th>\n",
       "      <th>Bwd IAT Total</th>\n",
       "      <th>Bwd IAT Mean</th>\n",
       "      <th>Bwd IAT Std</th>\n",
       "      <th>Bwd IAT Max</th>\n",
       "      <th>Bwd IAT Min</th>\n",
       "      <th>Fwd PSH Flags</th>\n",
       "      <th>Bwd PSH Flags</th>\n",
       "      <th>Fwd URG Flags</th>\n",
       "      <th>Bwd URG Flags</th>\n",
       "      <th>Fwd Header Length</th>\n",
       "      <th>Bwd Header Length</th>\n",
       "      <th>Fwd Packets/s</th>\n",
       "      <th>Bwd Packets/s</th>\n",
       "      <th>Min Packet Length</th>\n",
       "      <th>Max Packet Length</th>\n",
       "      <th>Packet Length Mean</th>\n",
       "      <th>Packet Length Std</th>\n",
       "      <th>Packet Length Variance</th>\n",
       "      <th>FIN Flag Count</th>\n",
       "      <th>SYN Flag Count</th>\n",
       "      <th>RST Flag Count</th>\n",
       "      <th>PSH Flag Count</th>\n",
       "      <th>ACK Flag Count</th>\n",
       "      <th>URG Flag Count</th>\n",
       "      <th>CWE Flag Count</th>\n",
       "      <th>ECE Flag Count</th>\n",
       "      <th>Down/Up Ratio</th>\n",
       "      <th>Average Packet Size</th>\n",
       "      <th>Avg Fwd Segment Size</th>\n",
       "      <th>Avg Bwd Segment Size</th>\n",
       "      <th>Fwd Header Length.1</th>\n",
       "      <th>Fwd Avg Bytes/Bulk</th>\n",
       "      <th>Fwd Avg Packets/Bulk</th>\n",
       "      <th>Fwd Avg Bulk Rate</th>\n",
       "      <th>Bwd Avg Bytes/Bulk</th>\n",
       "      <th>Bwd Avg Packets/Bulk</th>\n",
       "      <th>Bwd Avg Bulk Rate</th>\n",
       "      <th>Subflow Fwd Packets</th>\n",
       "      <th>Subflow Fwd Bytes</th>\n",
       "      <th>Subflow Bwd Packets</th>\n",
       "      <th>Subflow Bwd Bytes</th>\n",
       "      <th>Init_Win_bytes_forward</th>\n",
       "      <th>Init_Win_bytes_backward</th>\n",
       "      <th>act_data_pkt_fwd</th>\n",
       "      <th>min_seg_size_forward</th>\n",
       "      <th>Active Mean</th>\n",
       "      <th>Active Std</th>\n",
       "      <th>Active Max</th>\n",
       "      <th>Active Min</th>\n",
       "      <th>Idle Mean</th>\n",
       "      <th>Idle Std</th>\n",
       "      <th>Idle Max</th>\n",
       "      <th>Idle Min</th>\n",
       "      <th>Label</th>\n",
       "    </tr>\n",
       "  </thead>\n",
       "  <tbody>\n",
       "    <tr>\n",
       "      <th>25196</th>\n",
       "      <td>172.16.0.1-192.168.10.50-15966-80-6</td>\n",
       "      <td>172.16.0.1</td>\n",
       "      <td>15966</td>\n",
       "      <td>192.168.10.50</td>\n",
       "      <td>80</td>\n",
       "      <td>6</td>\n",
       "      <td>7/7/2017 3:57</td>\n",
       "      <td>315474</td>\n",
       "      <td>3</td>\n",
       "      <td>4</td>\n",
       "      <td>26</td>\n",
       "      <td>11607</td>\n",
       "      <td>20</td>\n",
       "      <td>0</td>\n",
       "      <td>8.666667</td>\n",
       "      <td>10.263203</td>\n",
       "      <td>11595</td>\n",
       "      <td>0</td>\n",
       "      <td>2901.75</td>\n",
       "      <td>5795.50069</td>\n",
       "      <td>36874.67113</td>\n",
       "      <td>22.188833</td>\n",
       "      <td>52579.0</td>\n",
       "      <td>128202.352</td>\n",
       "      <td>314270</td>\n",
       "      <td>6</td>\n",
       "      <td>1054</td>\n",
       "      <td>527.0</td>\n",
       "      <td>656.195093</td>\n",
       "      <td>991</td>\n",
       "      <td>63</td>\n",
       "      <td>315411</td>\n",
       "      <td>105137.0</td>\n",
       "      <td>181115.3705</td>\n",
       "      <td>314270</td>\n",
       "      <td>6</td>\n",
       "      <td>0</td>\n",
       "      <td>0</td>\n",
       "      <td>0</td>\n",
       "      <td>0</td>\n",
       "      <td>72</td>\n",
       "      <td>92</td>\n",
       "      <td>9.5095</td>\n",
       "      <td>12.679333</td>\n",
       "      <td>0</td>\n",
       "      <td>11595</td>\n",
       "      <td>1454.125</td>\n",
       "      <td>4097.537534</td>\n",
       "      <td>16800000.0</td>\n",
       "      <td>0</td>\n",
       "      <td>0</td>\n",
       "      <td>0</td>\n",
       "      <td>1</td>\n",
       "      <td>0</td>\n",
       "      <td>0</td>\n",
       "      <td>0</td>\n",
       "      <td>0</td>\n",
       "      <td>1</td>\n",
       "      <td>1661.857143</td>\n",
       "      <td>8.666667</td>\n",
       "      <td>2901.75</td>\n",
       "      <td>72</td>\n",
       "      <td>0</td>\n",
       "      <td>0</td>\n",
       "      <td>0</td>\n",
       "      <td>0</td>\n",
       "      <td>0</td>\n",
       "      <td>0</td>\n",
       "      <td>3</td>\n",
       "      <td>26</td>\n",
       "      <td>4</td>\n",
       "      <td>11607</td>\n",
       "      <td>8192</td>\n",
       "      <td>229</td>\n",
       "      <td>2</td>\n",
       "      <td>20</td>\n",
       "      <td>0.0</td>\n",
       "      <td>0.0</td>\n",
       "      <td>0</td>\n",
       "      <td>0</td>\n",
       "      <td>0.0</td>\n",
       "      <td>0.0</td>\n",
       "      <td>0</td>\n",
       "      <td>0</td>\n",
       "      <td>DDoS</td>\n",
       "    </tr>\n",
       "  </tbody>\n",
       "</table>\n",
       "</div>"
      ],
      "text/plain": [
       "                                   Flow ID   Source IP   Source Port  \\\n",
       "25196  172.16.0.1-192.168.10.50-15966-80-6  172.16.0.1         15966   \n",
       "\n",
       "       Destination IP   Destination Port   Protocol      Timestamp  \\\n",
       "25196   192.168.10.50                 80          6  7/7/2017 3:57   \n",
       "\n",
       "        Flow Duration   Total Fwd Packets   Total Backward Packets  \\\n",
       "25196          315474                   3                        4   \n",
       "\n",
       "       Total Length of Fwd Packets   Total Length of Bwd Packets  \\\n",
       "25196                           26                         11607   \n",
       "\n",
       "        Fwd Packet Length Max   Fwd Packet Length Min  \\\n",
       "25196                      20                       0   \n",
       "\n",
       "        Fwd Packet Length Mean   Fwd Packet Length Std  Bwd Packet Length Max  \\\n",
       "25196                 8.666667               10.263203                  11595   \n",
       "\n",
       "        Bwd Packet Length Min   Bwd Packet Length Mean  \\\n",
       "25196                       0                  2901.75   \n",
       "\n",
       "        Bwd Packet Length Std  Flow Bytes/s   Flow Packets/s   Flow IAT Mean  \\\n",
       "25196              5795.50069   36874.67113        22.188833         52579.0   \n",
       "\n",
       "        Flow IAT Std   Flow IAT Max   Flow IAT Min  Fwd IAT Total  \\\n",
       "25196     128202.352         314270              6           1054   \n",
       "\n",
       "        Fwd IAT Mean   Fwd IAT Std   Fwd IAT Max   Fwd IAT Min  Bwd IAT Total  \\\n",
       "25196          527.0    656.195093           991            63         315411   \n",
       "\n",
       "        Bwd IAT Mean   Bwd IAT Std   Bwd IAT Max   Bwd IAT Min  Fwd PSH Flags  \\\n",
       "25196       105137.0   181115.3705        314270             6              0   \n",
       "\n",
       "        Bwd PSH Flags   Fwd URG Flags   Bwd URG Flags   Fwd Header Length  \\\n",
       "25196               0               0               0                  72   \n",
       "\n",
       "        Bwd Header Length  Fwd Packets/s   Bwd Packets/s   Min Packet Length  \\\n",
       "25196                  92         9.5095       12.679333                   0   \n",
       "\n",
       "        Max Packet Length   Packet Length Mean   Packet Length Std  \\\n",
       "25196               11595             1454.125         4097.537534   \n",
       "\n",
       "        Packet Length Variance  FIN Flag Count   SYN Flag Count  \\\n",
       "25196               16800000.0               0                0   \n",
       "\n",
       "        RST Flag Count   PSH Flag Count   ACK Flag Count   URG Flag Count  \\\n",
       "25196                0                1                0                0   \n",
       "\n",
       "        CWE Flag Count   ECE Flag Count   Down/Up Ratio   Average Packet Size  \\\n",
       "25196                0                0               1           1661.857143   \n",
       "\n",
       "        Avg Fwd Segment Size   Avg Bwd Segment Size   Fwd Header Length.1  \\\n",
       "25196               8.666667                2901.75                    72   \n",
       "\n",
       "       Fwd Avg Bytes/Bulk   Fwd Avg Packets/Bulk   Fwd Avg Bulk Rate  \\\n",
       "25196                   0                      0                   0   \n",
       "\n",
       "        Bwd Avg Bytes/Bulk   Bwd Avg Packets/Bulk  Bwd Avg Bulk Rate  \\\n",
       "25196                    0                      0                  0   \n",
       "\n",
       "       Subflow Fwd Packets   Subflow Fwd Bytes   Subflow Bwd Packets  \\\n",
       "25196                    3                  26                     4   \n",
       "\n",
       "        Subflow Bwd Bytes  Init_Win_bytes_forward   Init_Win_bytes_backward  \\\n",
       "25196               11607                    8192                       229   \n",
       "\n",
       "        act_data_pkt_fwd   min_seg_size_forward  Active Mean   Active Std  \\\n",
       "25196                  2                     20          0.0          0.0   \n",
       "\n",
       "        Active Max   Active Min  Idle Mean   Idle Std   Idle Max   Idle Min  \\\n",
       "25196            0            0        0.0        0.0          0          0   \n",
       "\n",
       "       Label  \n",
       "25196   DDoS  "
      ]
     },
     "execution_count": 13,
     "metadata": {},
     "output_type": "execute_result"
    }
   ],
   "source": [
    "pd.set_option('display.max_columns', None)\n",
    "datadd[25196:25197]"
   ]
  },
  {
   "cell_type": "code",
   "execution_count": 14,
   "id": "bc26b385-dfc7-40b5-b443-a5a8991eeda5",
   "metadata": {},
   "outputs": [
    {
     "data": {
      "text/html": [
       "<div>\n",
       "<style scoped>\n",
       "    .dataframe tbody tr th:only-of-type {\n",
       "        vertical-align: middle;\n",
       "    }\n",
       "\n",
       "    .dataframe tbody tr th {\n",
       "        vertical-align: top;\n",
       "    }\n",
       "\n",
       "    .dataframe thead th {\n",
       "        text-align: right;\n",
       "    }\n",
       "</style>\n",
       "<table border=\"1\" class=\"dataframe\">\n",
       "  <thead>\n",
       "    <tr style=\"text-align: right;\">\n",
       "      <th></th>\n",
       "      <th>Flow ID</th>\n",
       "      <th>Source IP</th>\n",
       "      <th>Source Port</th>\n",
       "      <th>Destination IP</th>\n",
       "      <th>Destination Port</th>\n",
       "      <th>Protocol</th>\n",
       "      <th>Timestamp</th>\n",
       "      <th>Flow Duration</th>\n",
       "      <th>Total Fwd Packets</th>\n",
       "      <th>Total Backward Packets</th>\n",
       "      <th>...</th>\n",
       "      <th>min_seg_size_forward</th>\n",
       "      <th>Active Mean</th>\n",
       "      <th>Active Std</th>\n",
       "      <th>Active Max</th>\n",
       "      <th>Active Min</th>\n",
       "      <th>Idle Mean</th>\n",
       "      <th>Idle Std</th>\n",
       "      <th>Idle Max</th>\n",
       "      <th>Idle Min</th>\n",
       "      <th>Label</th>\n",
       "    </tr>\n",
       "  </thead>\n",
       "  <tbody>\n",
       "    <tr>\n",
       "      <th>0</th>\n",
       "      <td>192.168.10.5-104.16.207.165-54865-443-6</td>\n",
       "      <td>104.16.207.165</td>\n",
       "      <td>443</td>\n",
       "      <td>192.168.10.5</td>\n",
       "      <td>54865</td>\n",
       "      <td>6</td>\n",
       "      <td>7/7/2017 3:30</td>\n",
       "      <td>3</td>\n",
       "      <td>2</td>\n",
       "      <td>0</td>\n",
       "      <td>...</td>\n",
       "      <td>20</td>\n",
       "      <td>0.0</td>\n",
       "      <td>0.0</td>\n",
       "      <td>0</td>\n",
       "      <td>0</td>\n",
       "      <td>0.0</td>\n",
       "      <td>0.0</td>\n",
       "      <td>0</td>\n",
       "      <td>0</td>\n",
       "      <td>BENIGN</td>\n",
       "    </tr>\n",
       "    <tr>\n",
       "      <th>1</th>\n",
       "      <td>192.168.10.5-104.16.28.216-55054-80-6</td>\n",
       "      <td>104.16.28.216</td>\n",
       "      <td>80</td>\n",
       "      <td>192.168.10.5</td>\n",
       "      <td>55054</td>\n",
       "      <td>6</td>\n",
       "      <td>7/7/2017 3:30</td>\n",
       "      <td>109</td>\n",
       "      <td>1</td>\n",
       "      <td>1</td>\n",
       "      <td>...</td>\n",
       "      <td>20</td>\n",
       "      <td>0.0</td>\n",
       "      <td>0.0</td>\n",
       "      <td>0</td>\n",
       "      <td>0</td>\n",
       "      <td>0.0</td>\n",
       "      <td>0.0</td>\n",
       "      <td>0</td>\n",
       "      <td>0</td>\n",
       "      <td>BENIGN</td>\n",
       "    </tr>\n",
       "    <tr>\n",
       "      <th>2</th>\n",
       "      <td>192.168.10.5-104.16.28.216-55055-80-6</td>\n",
       "      <td>104.16.28.216</td>\n",
       "      <td>80</td>\n",
       "      <td>192.168.10.5</td>\n",
       "      <td>55055</td>\n",
       "      <td>6</td>\n",
       "      <td>7/7/2017 3:30</td>\n",
       "      <td>52</td>\n",
       "      <td>1</td>\n",
       "      <td>1</td>\n",
       "      <td>...</td>\n",
       "      <td>20</td>\n",
       "      <td>0.0</td>\n",
       "      <td>0.0</td>\n",
       "      <td>0</td>\n",
       "      <td>0</td>\n",
       "      <td>0.0</td>\n",
       "      <td>0.0</td>\n",
       "      <td>0</td>\n",
       "      <td>0</td>\n",
       "      <td>BENIGN</td>\n",
       "    </tr>\n",
       "    <tr>\n",
       "      <th>3</th>\n",
       "      <td>192.168.10.16-104.17.241.25-46236-443-6</td>\n",
       "      <td>104.17.241.25</td>\n",
       "      <td>443</td>\n",
       "      <td>192.168.10.16</td>\n",
       "      <td>46236</td>\n",
       "      <td>6</td>\n",
       "      <td>7/7/2017 3:30</td>\n",
       "      <td>34</td>\n",
       "      <td>1</td>\n",
       "      <td>1</td>\n",
       "      <td>...</td>\n",
       "      <td>20</td>\n",
       "      <td>0.0</td>\n",
       "      <td>0.0</td>\n",
       "      <td>0</td>\n",
       "      <td>0</td>\n",
       "      <td>0.0</td>\n",
       "      <td>0.0</td>\n",
       "      <td>0</td>\n",
       "      <td>0</td>\n",
       "      <td>BENIGN</td>\n",
       "    </tr>\n",
       "    <tr>\n",
       "      <th>4</th>\n",
       "      <td>192.168.10.5-104.19.196.102-54863-443-6</td>\n",
       "      <td>104.19.196.102</td>\n",
       "      <td>443</td>\n",
       "      <td>192.168.10.5</td>\n",
       "      <td>54863</td>\n",
       "      <td>6</td>\n",
       "      <td>7/7/2017 3:30</td>\n",
       "      <td>3</td>\n",
       "      <td>2</td>\n",
       "      <td>0</td>\n",
       "      <td>...</td>\n",
       "      <td>20</td>\n",
       "      <td>0.0</td>\n",
       "      <td>0.0</td>\n",
       "      <td>0</td>\n",
       "      <td>0</td>\n",
       "      <td>0.0</td>\n",
       "      <td>0.0</td>\n",
       "      <td>0</td>\n",
       "      <td>0</td>\n",
       "      <td>BENIGN</td>\n",
       "    </tr>\n",
       "  </tbody>\n",
       "</table>\n",
       "<p>5 rows × 85 columns</p>\n",
       "</div>"
      ],
      "text/plain": [
       "                                   Flow ID       Source IP   Source Port  \\\n",
       "0  192.168.10.5-104.16.207.165-54865-443-6  104.16.207.165           443   \n",
       "1    192.168.10.5-104.16.28.216-55054-80-6   104.16.28.216            80   \n",
       "2    192.168.10.5-104.16.28.216-55055-80-6   104.16.28.216            80   \n",
       "3  192.168.10.16-104.17.241.25-46236-443-6   104.17.241.25           443   \n",
       "4  192.168.10.5-104.19.196.102-54863-443-6  104.19.196.102           443   \n",
       "\n",
       "   Destination IP   Destination Port   Protocol      Timestamp  \\\n",
       "0    192.168.10.5              54865          6  7/7/2017 3:30   \n",
       "1    192.168.10.5              55054          6  7/7/2017 3:30   \n",
       "2    192.168.10.5              55055          6  7/7/2017 3:30   \n",
       "3   192.168.10.16              46236          6  7/7/2017 3:30   \n",
       "4    192.168.10.5              54863          6  7/7/2017 3:30   \n",
       "\n",
       "    Flow Duration   Total Fwd Packets   Total Backward Packets  ...  \\\n",
       "0               3                   2                        0  ...   \n",
       "1             109                   1                        1  ...   \n",
       "2              52                   1                        1  ...   \n",
       "3              34                   1                        1  ...   \n",
       "4               3                   2                        0  ...   \n",
       "\n",
       "    min_seg_size_forward  Active Mean   Active Std   Active Max   Active Min  \\\n",
       "0                     20          0.0          0.0            0            0   \n",
       "1                     20          0.0          0.0            0            0   \n",
       "2                     20          0.0          0.0            0            0   \n",
       "3                     20          0.0          0.0            0            0   \n",
       "4                     20          0.0          0.0            0            0   \n",
       "\n",
       "   Idle Mean   Idle Std   Idle Max   Idle Min   Label  \n",
       "0        0.0        0.0          0          0  BENIGN  \n",
       "1        0.0        0.0          0          0  BENIGN  \n",
       "2        0.0        0.0          0          0  BENIGN  \n",
       "3        0.0        0.0          0          0  BENIGN  \n",
       "4        0.0        0.0          0          0  BENIGN  \n",
       "\n",
       "[5 rows x 85 columns]"
      ]
     },
     "execution_count": 14,
     "metadata": {},
     "output_type": "execute_result"
    }
   ],
   "source": [
    "pd.set_option('display.max_columns', 20)\n",
    "datadd.head()"
   ]
  },
  {
   "cell_type": "code",
   "execution_count": 15,
   "id": "4e66fc9a-f815-4968-ae28-e5b9bb7c5fb5",
   "metadata": {},
   "outputs": [
    {
     "name": "stdout",
     "output_type": "stream",
     "text": [
      "[(6796, 20), (14739, 20), (15047, 20), (209728, 20)]\n"
     ]
    }
   ],
   "source": [
    "pd.set_option('display.max_rows', None)\n",
    "import numpy as np\n",
    "\n",
    "nan_locations = datadd.isna()\n",
    "nan_positions = [(datadd.index[row], col) for row, col in zip(*np.where(datadd.isna()))]\n",
    "\n",
    "print(nan_positions)\n"
   ]
  },
  {
   "cell_type": "code",
   "execution_count": 16,
   "id": "a95f6161-1a7f-469c-847b-7ce3a20a998e",
   "metadata": {},
   "outputs": [
    {
     "data": {
      "text/plain": [
       "2737.070194"
      ]
     },
     "execution_count": 16,
     "metadata": {},
     "output_type": "execute_result"
    }
   ],
   "source": [
    "p = 209730\n",
    "datadd.at[p, 'Flow Bytes/s']"
   ]
  },
  {
   "cell_type": "code",
   "execution_count": 17,
   "id": "a3fe65ef-7882-4503-bbfb-b438b2a89673",
   "metadata": {},
   "outputs": [
    {
     "data": {
      "text/plain": [
       "2737.0701944460284"
      ]
     },
     "execution_count": 17,
     "metadata": {},
     "output_type": "execute_result"
    }
   ],
   "source": [
    "(datadd.at[p, 'Total Length of Fwd Packets'] + datadd.at[p, ' Total Length of Bwd Packets']) / (datadd.at[p, ' Flow Duration']/1000000)"
   ]
  },
  {
   "cell_type": "code",
   "execution_count": 100,
   "id": "954ea0c0-ed1a-40a9-934d-a30cf4d9683c",
   "metadata": {},
   "outputs": [
    {
     "name": "stdout",
     "output_type": "stream",
     "text": [
      "Flow Bytes/s updated successfully at specified locations!\n"
     ]
    }
   ],
   "source": [
    "import pandas as pd\n",
    "# List of row indices to update\n",
    "rows_to_update = [6796, 14739, 15047]\n",
    "\n",
    "# Compute Flow Bytes/s only for the selected rows\n",
    "for row in rows_to_update:\n",
    "    datadd.at[row,'Flow Bytes/s'] = 0\n",
    "\n",
    "# Save the updated file\n",
    "datadd.at[209728, 'Flow Bytes/s'] = 2737.070194\n",
    "datadd.to_csv('D:\\\\R&D\\\\TrafficLabelling\\\\ddos_updated.csv', index=False)  # Use df.to_excel('updated_file.xlsx', index=False) for Excel\n",
    "\n",
    "print(\"Flow Bytes/s updated successfully at specified locations!\")\n"
   ]
  },
  {
   "cell_type": "code",
   "execution_count": 20,
   "id": "c3d4cf21-f9a8-433f-83e7-95329ad7ca26",
   "metadata": {},
   "outputs": [],
   "source": [
    "dataref = pd.read_csv('D:\\\\R&D\\\\TrafficLabelling\\\\ddos_updated.csv')"
   ]
  },
  {
   "cell_type": "code",
   "execution_count": 21,
   "id": "949276c5-e0de-4a55-8f1b-347443623434",
   "metadata": {},
   "outputs": [
    {
     "name": "stdout",
     "output_type": "stream",
     "text": [
      "[]\n"
     ]
    }
   ],
   "source": [
    "pd.set_option('display.max_rows', None)\n",
    "import numpy as np\n",
    "\n",
    "nan_locations = dataref.isna()\n",
    "nan_positions = [(dataref.index[row], col) for row, col in zip(*np.where(dataref.isna()))]\n",
    "\n",
    "print(nan_positions)"
   ]
  },
  {
   "cell_type": "code",
   "execution_count": 114,
   "id": "47280b54-c3c6-4a0c-a6d7-71d16251413a",
   "metadata": {},
   "outputs": [
    {
     "data": {
      "text/plain": [
       "Flow ID                          object\n",
       " Source IP                       object\n",
       " Source Port                      int64\n",
       " Destination IP                  object\n",
       " Destination Port                 int64\n",
       " Protocol                         int64\n",
       " Timestamp                       object\n",
       " Flow Duration                    int64\n",
       " Total Fwd Packets                int64\n",
       " Total Backward Packets           int64\n",
       "Total Length of Fwd Packets       int64\n",
       " Total Length of Bwd Packets      int64\n",
       " Fwd Packet Length Max            int64\n",
       " Fwd Packet Length Min            int64\n",
       " Fwd Packet Length Mean         float64\n",
       " Fwd Packet Length Std          float64\n",
       "Bwd Packet Length Max             int64\n",
       " Bwd Packet Length Min            int64\n",
       " Bwd Packet Length Mean         float64\n",
       " Bwd Packet Length Std          float64\n",
       "Flow Bytes/s                    float64\n",
       " Flow Packets/s                 float64\n",
       " Flow IAT Mean                  float64\n",
       " Flow IAT Std                   float64\n",
       " Flow IAT Max                     int64\n",
       " Flow IAT Min                     int64\n",
       "Fwd IAT Total                     int64\n",
       " Fwd IAT Mean                   float64\n",
       " Fwd IAT Std                    float64\n",
       " Fwd IAT Max                      int64\n",
       " Fwd IAT Min                      int64\n",
       "Bwd IAT Total                     int64\n",
       " Bwd IAT Mean                   float64\n",
       " Bwd IAT Std                    float64\n",
       " Bwd IAT Max                      int64\n",
       " Bwd IAT Min                      int64\n",
       "Fwd PSH Flags                     int64\n",
       " Bwd PSH Flags                    int64\n",
       " Fwd URG Flags                    int64\n",
       " Bwd URG Flags                    int64\n",
       " Fwd Header Length                int64\n",
       " Bwd Header Length                int64\n",
       "Fwd Packets/s                   float64\n",
       " Bwd Packets/s                  float64\n",
       " Min Packet Length                int64\n",
       " Max Packet Length                int64\n",
       " Packet Length Mean             float64\n",
       " Packet Length Std              float64\n",
       " Packet Length Variance         float64\n",
       "FIN Flag Count                    int64\n",
       " SYN Flag Count                   int64\n",
       " RST Flag Count                   int64\n",
       " PSH Flag Count                   int64\n",
       " ACK Flag Count                   int64\n",
       " URG Flag Count                   int64\n",
       " CWE Flag Count                   int64\n",
       " ECE Flag Count                   int64\n",
       " Down/Up Ratio                    int64\n",
       " Average Packet Size            float64\n",
       " Avg Fwd Segment Size           float64\n",
       " Avg Bwd Segment Size           float64\n",
       " Fwd Header Length.1              int64\n",
       "Fwd Avg Bytes/Bulk                int64\n",
       " Fwd Avg Packets/Bulk             int64\n",
       " Fwd Avg Bulk Rate                int64\n",
       " Bwd Avg Bytes/Bulk               int64\n",
       " Bwd Avg Packets/Bulk             int64\n",
       "Bwd Avg Bulk Rate                 int64\n",
       "Subflow Fwd Packets               int64\n",
       " Subflow Fwd Bytes                int64\n",
       " Subflow Bwd Packets              int64\n",
       " Subflow Bwd Bytes                int64\n",
       "Init_Win_bytes_forward            int64\n",
       " Init_Win_bytes_backward          int64\n",
       " act_data_pkt_fwd                 int64\n",
       " min_seg_size_forward             int64\n",
       "Active Mean                     float64\n",
       " Active Std                     float64\n",
       " Active Max                       int64\n",
       " Active Min                       int64\n",
       "Idle Mean                       float64\n",
       " Idle Std                       float64\n",
       " Idle Max                         int64\n",
       " Idle Min                         int64\n",
       " Label                            int32\n",
       "dtype: object"
      ]
     },
     "execution_count": 114,
     "metadata": {},
     "output_type": "execute_result"
    }
   ],
   "source": [
    "dataref.dtypes"
   ]
  },
  {
   "cell_type": "code",
   "execution_count": 25,
   "id": "73c7491b-0e17-4aa5-a639-3a57da9f9a57",
   "metadata": {},
   "outputs": [],
   "source": [
    "df = dataref\n",
    "df = df.drop(['Flow ID', ' Source IP', ' Destination IP', ' Timestamp'], axis=1)"
   ]
  },
  {
   "cell_type": "code",
   "execution_count": 24,
   "id": "59ecccd1-542a-40bd-9fce-10a5ec6931ce",
   "metadata": {},
   "outputs": [
    {
     "ename": "TypeError",
     "evalue": "ufunc 'isinf' not supported for the input types, and the inputs could not be safely coerced to any supported types according to the casting rule ''safe''",
     "output_type": "error",
     "traceback": [
      "\u001b[1;31m---------------------------------------------------------------------------\u001b[0m",
      "\u001b[1;31mTypeError\u001b[0m                                 Traceback (most recent call last)",
      "Cell \u001b[1;32mIn[24], line 1\u001b[0m\n\u001b[1;32m----> 1\u001b[0m df[\u001b[43mnp\u001b[49m\u001b[38;5;241;43m.\u001b[39;49m\u001b[43misinf\u001b[49m\u001b[43m(\u001b[49m\u001b[43mdf\u001b[49m\u001b[43m)\u001b[49m]\n",
      "File \u001b[1;32mC:\\CONDA\\envs\\myvenv\\lib\\site-packages\\pandas\\core\\generic.py:2171\u001b[0m, in \u001b[0;36mNDFrame.__array_ufunc__\u001b[1;34m(self, ufunc, method, *inputs, **kwargs)\u001b[0m\n\u001b[0;32m   2167\u001b[0m \u001b[38;5;129m@final\u001b[39m\n\u001b[0;32m   2168\u001b[0m \u001b[38;5;28;01mdef\u001b[39;00m \u001b[38;5;21m__array_ufunc__\u001b[39m(\n\u001b[0;32m   2169\u001b[0m     \u001b[38;5;28mself\u001b[39m, ufunc: np\u001b[38;5;241m.\u001b[39mufunc, method: \u001b[38;5;28mstr\u001b[39m, \u001b[38;5;241m*\u001b[39minputs: Any, \u001b[38;5;241m*\u001b[39m\u001b[38;5;241m*\u001b[39mkwargs: Any\n\u001b[0;32m   2170\u001b[0m ):\n\u001b[1;32m-> 2171\u001b[0m     \u001b[38;5;28;01mreturn\u001b[39;00m arraylike\u001b[38;5;241m.\u001b[39marray_ufunc(\u001b[38;5;28mself\u001b[39m, ufunc, method, \u001b[38;5;241m*\u001b[39minputs, \u001b[38;5;241m*\u001b[39m\u001b[38;5;241m*\u001b[39mkwargs)\n",
      "File \u001b[1;32mC:\\CONDA\\envs\\myvenv\\lib\\site-packages\\pandas\\core\\arraylike.py:407\u001b[0m, in \u001b[0;36marray_ufunc\u001b[1;34m(self, ufunc, method, *inputs, **kwargs)\u001b[0m\n\u001b[0;32m    402\u001b[0m \u001b[38;5;28;01mif\u001b[39;00m method \u001b[38;5;241m==\u001b[39m \u001b[38;5;124m\"\u001b[39m\u001b[38;5;124m__call__\u001b[39m\u001b[38;5;124m\"\u001b[39m \u001b[38;5;129;01mand\u001b[39;00m \u001b[38;5;129;01mnot\u001b[39;00m kwargs:\n\u001b[0;32m    403\u001b[0m     \u001b[38;5;66;03m# for np.<ufunc>(..) calls\u001b[39;00m\n\u001b[0;32m    404\u001b[0m     \u001b[38;5;66;03m# kwargs cannot necessarily be handled block-by-block, so only\u001b[39;00m\n\u001b[0;32m    405\u001b[0m     \u001b[38;5;66;03m# take this path if there are no kwargs\u001b[39;00m\n\u001b[0;32m    406\u001b[0m     mgr \u001b[38;5;241m=\u001b[39m inputs[\u001b[38;5;241m0\u001b[39m]\u001b[38;5;241m.\u001b[39m_mgr\n\u001b[1;32m--> 407\u001b[0m     result \u001b[38;5;241m=\u001b[39m \u001b[43mmgr\u001b[49m\u001b[38;5;241;43m.\u001b[39;49m\u001b[43mapply\u001b[49m\u001b[43m(\u001b[49m\u001b[38;5;28;43mgetattr\u001b[39;49m\u001b[43m(\u001b[49m\u001b[43mufunc\u001b[49m\u001b[43m,\u001b[49m\u001b[43m \u001b[49m\u001b[43mmethod\u001b[49m\u001b[43m)\u001b[49m\u001b[43m)\u001b[49m\n\u001b[0;32m    408\u001b[0m \u001b[38;5;28;01melse\u001b[39;00m:\n\u001b[0;32m    409\u001b[0m     \u001b[38;5;66;03m# otherwise specific ufunc methods (eg np.<ufunc>.accumulate(..))\u001b[39;00m\n\u001b[0;32m    410\u001b[0m     \u001b[38;5;66;03m# Those can have an axis keyword and thus can't be called block-by-block\u001b[39;00m\n\u001b[0;32m    411\u001b[0m     result \u001b[38;5;241m=\u001b[39m default_array_ufunc(inputs[\u001b[38;5;241m0\u001b[39m], ufunc, method, \u001b[38;5;241m*\u001b[39minputs, \u001b[38;5;241m*\u001b[39m\u001b[38;5;241m*\u001b[39mkwargs)\n",
      "File \u001b[1;32mC:\\CONDA\\envs\\myvenv\\lib\\site-packages\\pandas\\core\\internals\\managers.py:361\u001b[0m, in \u001b[0;36mBaseBlockManager.apply\u001b[1;34m(self, f, align_keys, **kwargs)\u001b[0m\n\u001b[0;32m    358\u001b[0m             kwargs[k] \u001b[38;5;241m=\u001b[39m obj[b\u001b[38;5;241m.\u001b[39mmgr_locs\u001b[38;5;241m.\u001b[39mindexer]\n\u001b[0;32m    360\u001b[0m \u001b[38;5;28;01mif\u001b[39;00m \u001b[38;5;28mcallable\u001b[39m(f):\n\u001b[1;32m--> 361\u001b[0m     applied \u001b[38;5;241m=\u001b[39m b\u001b[38;5;241m.\u001b[39mapply(f, \u001b[38;5;241m*\u001b[39m\u001b[38;5;241m*\u001b[39mkwargs)\n\u001b[0;32m    362\u001b[0m \u001b[38;5;28;01melse\u001b[39;00m:\n\u001b[0;32m    363\u001b[0m     applied \u001b[38;5;241m=\u001b[39m \u001b[38;5;28mgetattr\u001b[39m(b, f)(\u001b[38;5;241m*\u001b[39m\u001b[38;5;241m*\u001b[39mkwargs)\n",
      "File \u001b[1;32mC:\\CONDA\\envs\\myvenv\\lib\\site-packages\\pandas\\core\\internals\\blocks.py:393\u001b[0m, in \u001b[0;36mBlock.apply\u001b[1;34m(self, func, **kwargs)\u001b[0m\n\u001b[0;32m    387\u001b[0m \u001b[38;5;129m@final\u001b[39m\n\u001b[0;32m    388\u001b[0m \u001b[38;5;28;01mdef\u001b[39;00m \u001b[38;5;21mapply\u001b[39m(\u001b[38;5;28mself\u001b[39m, func, \u001b[38;5;241m*\u001b[39m\u001b[38;5;241m*\u001b[39mkwargs) \u001b[38;5;241m-\u001b[39m\u001b[38;5;241m>\u001b[39m \u001b[38;5;28mlist\u001b[39m[Block]:\n\u001b[0;32m    389\u001b[0m \u001b[38;5;250m    \u001b[39m\u001b[38;5;124;03m\"\"\"\u001b[39;00m\n\u001b[0;32m    390\u001b[0m \u001b[38;5;124;03m    apply the function to my values; return a block if we are not\u001b[39;00m\n\u001b[0;32m    391\u001b[0m \u001b[38;5;124;03m    one\u001b[39;00m\n\u001b[0;32m    392\u001b[0m \u001b[38;5;124;03m    \"\"\"\u001b[39;00m\n\u001b[1;32m--> 393\u001b[0m     result \u001b[38;5;241m=\u001b[39m func(\u001b[38;5;28mself\u001b[39m\u001b[38;5;241m.\u001b[39mvalues, \u001b[38;5;241m*\u001b[39m\u001b[38;5;241m*\u001b[39mkwargs)\n\u001b[0;32m    395\u001b[0m     result \u001b[38;5;241m=\u001b[39m maybe_coerce_values(result)\n\u001b[0;32m    396\u001b[0m     \u001b[38;5;28;01mreturn\u001b[39;00m \u001b[38;5;28mself\u001b[39m\u001b[38;5;241m.\u001b[39m_split_op_result(result)\n",
      "\u001b[1;31mTypeError\u001b[0m: ufunc 'isinf' not supported for the input types, and the inputs could not be safely coerced to any supported types according to the casting rule ''safe''"
     ]
    }
   ],
   "source": [
    "#df[np.isinf(df)]"
   ]
  },
  {
   "cell_type": "code",
   "execution_count": 158,
   "id": "6c413fe3-f926-41ad-beb6-a7da72c91fd3",
   "metadata": {},
   "outputs": [
    {
     "name": "stdout",
     "output_type": "stream",
     "text": [
      "Epoch 1/5\n"
     ]
    },
    {
     "name": "stderr",
     "output_type": "stream",
     "text": [
      "C:\\CONDA\\envs\\myvenv\\lib\\site-packages\\keras\\src\\layers\\convolutional\\base_conv.py:107: UserWarning: Do not pass an `input_shape`/`input_dim` argument to a layer. When using Sequential models, prefer using an `Input(shape)` object as the first layer in the model instead.\n",
      "  super().__init__(activity_regularizer=activity_regularizer, **kwargs)\n"
     ]
    },
    {
     "name": "stdout",
     "output_type": "stream",
     "text": [
      "\u001b[1m5644/5644\u001b[0m \u001b[32m━━━━━━━━━━━━━━━━━━━━\u001b[0m\u001b[37m\u001b[0m \u001b[1m50s\u001b[0m 8ms/step - accuracy: 0.9791 - loss: 0.2636 - val_accuracy: 0.9887 - val_loss: 0.0976\n",
      "Epoch 2/5\n",
      "\u001b[1m5644/5644\u001b[0m \u001b[32m━━━━━━━━━━━━━━━━━━━━\u001b[0m\u001b[37m\u001b[0m \u001b[1m48s\u001b[0m 9ms/step - accuracy: 0.9888 - loss: 0.0969 - val_accuracy: 0.9880 - val_loss: 0.0808\n",
      "Epoch 3/5\n",
      "\u001b[1m5644/5644\u001b[0m \u001b[32m━━━━━━━━━━━━━━━━━━━━\u001b[0m\u001b[37m\u001b[0m \u001b[1m49s\u001b[0m 9ms/step - accuracy: 0.9902 - loss: 0.0840 - val_accuracy: 0.9922 - val_loss: 0.0717\n",
      "Epoch 4/5\n",
      "\u001b[1m5644/5644\u001b[0m \u001b[32m━━━━━━━━━━━━━━━━━━━━\u001b[0m\u001b[37m\u001b[0m \u001b[1m45s\u001b[0m 8ms/step - accuracy: 0.9910 - loss: 0.0767 - val_accuracy: 0.9887 - val_loss: 0.0653\n",
      "Epoch 5/5\n",
      "\u001b[1m5644/5644\u001b[0m \u001b[32m━━━━━━━━━━━━━━━━━━━━\u001b[0m\u001b[37m\u001b[0m \u001b[1m48s\u001b[0m 9ms/step - accuracy: 0.9922 - loss: 0.0704 - val_accuracy: 0.9954 - val_loss: 0.0628\n"
     ]
    },
    {
     "data": {
      "image/png": "[encoded data removed]",
      "text/plain": [
       "<Figure size 640x480 with 1 Axes>"
      ]
     },
     "metadata": {},
     "output_type": "display_data"
    },
    {
     "name": "stdout",
     "output_type": "stream",
     "text": [
      "\u001b[1m1411/1411\u001b[0m \u001b[32m━━━━━━━━━━━━━━━━━━━━\u001b[0m\u001b[37m\u001b[0m \u001b[1m6s\u001b[0m 4ms/step - accuracy: 0.9955 - loss: 0.0624\n",
      "Test Accuracy: 0.9954\n",
      "\u001b[1m1411/1411\u001b[0m \u001b[32m━━━━━━━━━━━━━━━━━━━━\u001b[0m\u001b[37m\u001b[0m \u001b[1m5s\u001b[0m 4ms/step\n"
     ]
    },
    {
     "data": {
      "image/png": "[encoded data removed]",
      "text/plain": [
       "<Figure size 600x500 with 2 Axes>"
      ]
     },
     "metadata": {},
     "output_type": "display_data"
    },
    {
     "name": "stdout",
     "output_type": "stream",
     "text": [
      "Classification Report:\n",
      "              precision    recall  f1-score   support\n",
      "\n",
      "           0       1.00      0.99      0.99     19405\n",
      "           1       0.99      1.00      1.00     25744\n",
      "\n",
      "    accuracy                           1.00     45149\n",
      "   macro avg       1.00      0.99      1.00     45149\n",
      "weighted avg       1.00      1.00      1.00     45149\n",
      "\n"
     ]
    }
   ],
   "source": [
    "import numpy as np\n",
    "import pandas as pd\n",
    "import matplotlib.pyplot as plt\n",
    "from sklearn.model_selection import train_test_split\n",
    "from sklearn.preprocessing import LabelEncoder, StandardScaler\n",
    "from tensorflow.keras.models import Sequential\n",
    "from tensorflow.keras.layers import Conv1D, MaxPooling1D, Flatten, Dense, Dropout\n",
    "from tensorflow.keras.optimizers import Adam\n",
    "# Step 1: Load dataset\n",
    "# Assuming df is your dataset\n",
    "# Replace with your actual dataset path\n",
    "np.random.seed(42)\n",
    "\n",
    "# Step 2: Preprocess Data\n",
    "# Encode labels\n",
    "label_encoder = LabelEncoder()\n",
    "df[' Label'] = label_encoder.fit_transform(df[' Label'])  # Assuming 'Label' is the target column\n",
    "\n",
    "# Separate features and labels\n",
    "X = df.drop(columns=[' Label'])  # Feature columns\n",
    "y = df[' Label']  # Target column\n",
    "\n",
    "# Normalize the features\n",
    "scaler = StandardScaler()\n",
    "X_scaled = scaler.fit_transform(X)\n",
    "\n",
    "# Reshape data for CNN (assuming features can be treated as a 1D sequence)\n",
    "X_reshaped = X_scaled.reshape(X_scaled.shape[0], X_scaled.shape[1], 1)  # Shape: (samples, features, 1)\n",
    "\n",
    "# Split data into training and testing sets\n",
    "X_train, X_test, y_train, y_test = train_test_split(X_reshaped, y, test_size=0.2, random_state=42)\n",
    "\n",
    "# Step 3: Define CNN Model\n",
    "model = Sequential([\n",
    "    Conv1D(filters=64, kernel_size=3, activation='relu', kernel_regularizer=l2(0.01), input_shape=(X_train.shape[1], 1)),\n",
    "    MaxPooling1D(pool_size=2),\n",
    "    Conv1D(filters=32, kernel_size=3, activation='relu', kernel_regularizer=l2(0.01)),\n",
    "    MaxPooling1D(pool_size=2),\n",
    "    Conv1D(filters=64, kernel_size=3, activation='relu', kernel_regularizer=l2(0.01)),  # Added extra Conv1D layer with L2\n",
    "    Flatten(),\n",
    "    Dense(64, activation='relu', kernel_regularizer=l2(0.01)),\n",
    "    Dropout(0.5),  # Dropout to reduce overfitting\n",
    "    Dense(1, activation='sigmoid')  # Binary classification\n",
    "])\n",
    "\n",
    "# Compile the model\n",
    "model.compile(optimizer=Adam(learning_rate=0.001), loss='binary_crossentropy', metrics=['accuracy'])\n",
    "\n",
    "# Step 4: Train the Model\n",
    "history = model.fit(X_train, y_train, epochs=5, batch_size=32, validation_data=(X_test, y_test))\n",
    "\n",
    "# Step 5: Plot Accuracy to Check Overfitting\n",
    "epochs = range(1, len(history.history['accuracy']) + 1)\n",
    "\n",
    "plt.plot(epochs, history.history['accuracy'], label=\"Training Accuracy\", marker=\"o\")\n",
    "plt.plot(epochs, history.history['val_accuracy'], label=\"Validation Accuracy\", marker=\"o\")\n",
    "plt.xlabel(\"Epochs\")\n",
    "plt.ylabel(\"Accuracy\")\n",
    "plt.legend()\n",
    "plt.title(\"Training vs Validation Accuracy\")\n",
    "plt.show()\n",
    "# Step 6: Evaluate the Model\n",
    "test_loss, test_acc = model.evaluate(X_test, y_test)\n",
    "print(f\"Test Accuracy: {test_acc:.4f}\")\n",
    "# Step 7: Predict on Test Data\n",
    "y_pred = model.predict(X_test)\n",
    "y_pred = (y_pred > 0.5).astype(int)  # Convert probabilities to binary labels (0 or 1)\n",
    "\n",
    "# Step 8: Compute Confusion Matrix\n",
    "cm = confusion_matrix(y_test, y_pred)\n",
    "\n",
    "# Step 9: Plot Confusion Matrix\n",
    "plt.figure(figsize=(6, 5))\n",
    "sns.heatmap(cm, annot=True, fmt=\"d\", cmap=\"Blues\", xticklabels=['Negative', 'Positive'], yticklabels=['Negative', 'Positive'])\n",
    "plt.xlabel(\"Predicted\")\n",
    "plt.ylabel(\"Actual\")\n",
    "plt.title(\"Confusion Matrix\")\n",
    "plt.show()\n",
    "# Step 10: Print Classification Report\n",
    "print(\"Classification Report:\")\n",
    "print(classification_report(y_test, y_pred))"
   ]
  },
  {
   "cell_type": "code",
   "execution_count": 34,
   "id": "5e5c67b4-6610-4b6b-bc67-f5ff454152ab",
   "metadata": {},
   "outputs": [
    {
     "data": {
      "text/plain": [
       "array(['BENIGN', 'DDoS'], dtype=object)"
      ]
     },
     "execution_count": 34,
     "metadata": {},
     "output_type": "execute_result"
    }
   ],
   "source": [
    "df[' Label'].unique()"
   ]
  },
  {
   "cell_type": "code",
   "execution_count": 9,
   "id": "be21c6dc-6328-4d42-ac66-41db72e97ab5",
   "metadata": {},
   "outputs": [],
   "source": [
    "df = pd.read_csv('D:\\\\R&D\\\\TrafficLabelling\\\\updated\\\\ddos_updated.csv')\n",
    "df = df.drop(['Flow ID', ' Source IP', ' Destination IP', ' Timestamp'], axis=1)"
   ]
  },
  {
   "cell_type": "code",
   "execution_count": 41,
   "id": "2376adab-fb42-4cba-a172-671b1ed022da",
   "metadata": {},
   "outputs": [
    {
     "name": "stderr",
     "output_type": "stream",
     "text": [
      "C:\\CONDA\\envs\\myvenv\\lib\\site-packages\\keras\\src\\layers\\convolutional\\base_conv.py:107: UserWarning: Do not pass an `input_shape`/`input_dim` argument to a layer. When using Sequential models, prefer using an `Input(shape)` object as the first layer in the model instead.\n",
      "  super().__init__(activity_regularizer=activity_regularizer, **kwargs)\n"
     ]
    },
    {
     "name": "stdout",
     "output_type": "stream",
     "text": [
      "Epoch 1/5\n",
      "\u001b[1m4939/4939\u001b[0m \u001b[32m━━━━━━━━━━━━━━━━━━━━\u001b[0m\u001b[37m\u001b[0m \u001b[1m58s\u001b[0m 11ms/step - accuracy: 0.9806 - loss: 0.2721 - val_accuracy: 0.9878 - val_loss: 0.0959\n",
      "Epoch 2/5\n",
      "\u001b[1m4939/4939\u001b[0m \u001b[32m━━━━━━━━━━━━━━━━━━━━\u001b[0m\u001b[37m\u001b[0m \u001b[1m57s\u001b[0m 11ms/step - accuracy: 0.9886 - loss: 0.1008 - val_accuracy: 0.9962 - val_loss: 0.0843\n",
      "Epoch 3/5\n",
      "\u001b[1m4939/4939\u001b[0m \u001b[32m━━━━━━━━━━━━━━━━━━━━\u001b[0m\u001b[37m\u001b[0m \u001b[1m57s\u001b[0m 12ms/step - accuracy: 0.9908 - loss: 0.0851 - val_accuracy: 0.9984 - val_loss: 0.0744\n",
      "Epoch 4/5\n",
      "\u001b[1m4939/4939\u001b[0m \u001b[32m━━━━━━━━━━━━━━━━━━━━\u001b[0m\u001b[37m\u001b[0m \u001b[1m55s\u001b[0m 11ms/step - accuracy: 0.9923 - loss: 0.0764 - val_accuracy: 0.9900 - val_loss: 0.0665\n",
      "Epoch 5/5\n",
      "\u001b[1m4939/4939\u001b[0m \u001b[32m━━━━━━━━━━━━━━━━━━━━\u001b[0m\u001b[37m\u001b[0m \u001b[1m54s\u001b[0m 11ms/step - accuracy: 0.9934 - loss: 0.0704 - val_accuracy: 0.9967 - val_loss: 0.0627\n"
     ]
    },
    {
     "data": {
      "image/png": "[encoded data removed]",
      "text/plain": [
       "<Figure size 640x480 with 1 Axes>"
      ]
     },
     "metadata": {},
     "output_type": "display_data"
    },
    {
     "name": "stdout",
     "output_type": "stream",
     "text": [
      "\u001b[1m1059/1059\u001b[0m \u001b[32m━━━━━━━━━━━━━━━━━━━━\u001b[0m\u001b[37m\u001b[0m \u001b[1m6s\u001b[0m 5ms/step - accuracy: 0.9969 - loss: 0.0620\n",
      "Test Accuracy: 0.9968\n",
      "\u001b[1m1059/1059\u001b[0m \u001b[32m━━━━━━━━━━━━━━━━━━━━\u001b[0m\u001b[37m\u001b[0m \u001b[1m6s\u001b[0m 6ms/step\n"
     ]
    },
    {
     "data": {
      "image/png": "[encoded data removed]",
      "text/plain": [
       "<Figure size 600x500 with 2 Axes>"
      ]
     },
     "metadata": {},
     "output_type": "display_data"
    },
    {
     "name": "stdout",
     "output_type": "stream",
     "text": [
      "Classification Report:\n",
      "              precision    recall  f1-score   support\n",
      "\n",
      "           0       1.00      0.99      1.00     14657\n",
      "           1       1.00      1.00      1.00     19205\n",
      "\n",
      "    accuracy                           1.00     33862\n",
      "   macro avg       1.00      1.00      1.00     33862\n",
      "weighted avg       1.00      1.00      1.00     33862\n",
      "\n"
     ]
    }
   ],
   "source": [
    "import numpy as np\n",
    "import pandas as pd\n",
    "import matplotlib.pyplot as plt\n",
    "import seaborn as sns\n",
    "from sklearn.model_selection import train_test_split\n",
    "from sklearn.preprocessing import LabelEncoder, StandardScaler\n",
    "from sklearn.metrics import confusion_matrix, classification_report\n",
    "from tensorflow.keras.models import Sequential\n",
    "from tensorflow.keras.layers import Conv1D, MaxPooling1D, Flatten, Dense, Dropout\n",
    "from tensorflow.keras.optimizers import Adam\n",
    "from tensorflow.keras.regularizers import l2\n",
    "\n",
    "# Set seed for reproducibility\n",
    "np.random.seed(42)\n",
    "\n",
    "# Step 1: Load dataset (Assuming df is your dataset)\n",
    "# Replace with your actual dataset\n",
    "# df = pd.read_csv(\"your_dataset.csv\")\n",
    "\n",
    "# Step 2: Preprocess Data\n",
    "# Encode labels\n",
    "label_encoder = LabelEncoder()\n",
    "df[' Label'] = label_encoder.fit_transform(df[' Label'])  # Assuming 'Label' is the target column\n",
    "\n",
    "# Separate features and labels\n",
    "X = df.drop(columns=[' Label'])  # Feature columns\n",
    "y = df[' Label']  # Target column\n",
    "\n",
    "# Normalize the features\n",
    "scaler = StandardScaler()\n",
    "X_scaled = scaler.fit_transform(X)\n",
    "\n",
    "# Reshape data for CNN (assuming features can be treated as a 1D sequence)\n",
    "X_reshaped = X_scaled.reshape(X_scaled.shape[0], X_scaled.shape[1], 1)  # Shape: (samples, features, 1)\n",
    "\n",
    "# Split data into training (70%), validation (15%), and test (15%) sets\n",
    "X_train, X_temp, y_train, y_temp = train_test_split(X_reshaped, y, test_size=0.3, random_state=42)\n",
    "X_val, X_test, y_val, y_test = train_test_split(X_temp, y_temp, test_size=0.5, random_state=42)\n",
    "\n",
    "# Step 3: Define CNN Model\n",
    "model = Sequential([\n",
    "    Conv1D(filters=64, kernel_size=3, activation='relu', kernel_regularizer=l2(0.01), input_shape=(X_train.shape[1], 1)),\n",
    "    MaxPooling1D(pool_size=2),\n",
    "    Conv1D(filters=32, kernel_size=3, activation='relu', kernel_regularizer=l2(0.01)),\n",
    "    MaxPooling1D(pool_size=2),\n",
    "    Conv1D(filters=64, kernel_size=3, activation='relu', kernel_regularizer=l2(0.01)),  # Extra Conv1D layer with L2\n",
    "    Flatten(),\n",
    "    Dense(64, activation='relu', kernel_regularizer=l2(0.01)),\n",
    "    Dropout(0.5),  # Dropout to reduce overfitting\n",
    "    Dense(1, activation='sigmoid')  # Binary classification\n",
    "])\n",
    "\n",
    "# Compile the model\n",
    "model.compile(optimizer=Adam(learning_rate=0.001), loss='binary_crossentropy', metrics=['accuracy'])\n",
    "\n",
    "# Step 4: Train the Model with Validation Data\n",
    "history = model.fit(X_train, y_train, epochs=5, batch_size=32, validation_data=(X_val, y_val))\n",
    "\n",
    "# Step 5: Plot Training vs Validation Accuracy\n",
    "epochs = range(1, len(history.history['accuracy']) + 1)\n",
    "\n",
    "plt.plot(epochs, history.history['accuracy'], label=\"Training Accuracy\", marker=\"o\")\n",
    "plt.plot(epochs, history.history['val_accuracy'], label=\"Validation Accuracy\", marker=\"o\")\n",
    "plt.xlabel(\"Epochs\")\n",
    "plt.ylabel(\"Accuracy\")\n",
    "plt.legend()\n",
    "plt.title(\"Training vs Validation Accuracy\")\n",
    "plt.show()\n",
    "\n",
    "# Step 6: Evaluate the Model on Test Data\n",
    "test_loss, test_acc = model.evaluate(X_test, y_test)\n",
    "print(f\"Test Accuracy: {test_acc:.4f}\")\n",
    "\n",
    "# Step 7: Predict on Test Data\n",
    "y_pred = model.predict(X_test)\n",
    "y_pred = (y_pred > 0.5).astype(int)  # Convert probabilities to binary labels (0 or 1)\n",
    "\n",
    "# Step 8: Compute Confusion Matrix\n",
    "cm = confusion_matrix(y_test, y_pred)\n",
    "\n",
    "# Step 9: Plot Confusion Matrix\n",
    "plt.figure(figsize=(6, 5))\n",
    "sns.heatmap(cm, annot=True, fmt=\"d\", cmap=\"Blues\", xticklabels=['Negative', 'Positive'], yticklabels=['Negative', 'Positive'])\n",
    "plt.xlabel(\"Predicted\")\n",
    "plt.ylabel(\"Actual\")\n",
    "plt.title(\"Confusion Matrix\")\n",
    "plt.show()\n",
    "\n",
    "# Step 10: Print Classification Report\n",
    "print(\"Classification Report:\")\n",
    "print(classification_report(y_test, y_pred))\n"
   ]
  },
  {
   "cell_type": "code",
   "execution_count": 10,
   "id": "4a52f838-6d06-4214-bed2-f6ea000e288a",
   "metadata": {},
   "outputs": [
    {
     "name": "stderr",
     "output_type": "stream",
     "text": [
      "C:\\CONDA\\envs\\myvenv\\lib\\site-packages\\keras\\src\\layers\\convolutional\\base_conv.py:107: UserWarning: Do not pass an `input_shape`/`input_dim` argument to a layer. When using Sequential models, prefer using an `Input(shape)` object as the first layer in the model instead.\n",
      "  super().__init__(activity_regularizer=activity_regularizer, **kwargs)\n"
     ]
    },
    {
     "name": "stdout",
     "output_type": "stream",
     "text": [
      "Epoch 1/10\n",
      "\u001b[1m4939/4939\u001b[0m \u001b[32m━━━━━━━━━━━━━━━━━━━━\u001b[0m\u001b[37m\u001b[0m \u001b[1m54s\u001b[0m 10ms/step - accuracy: 0.9809 - loss: 0.2924 - val_accuracy: 0.9895 - val_loss: 0.1037\n",
      "Epoch 2/10\n",
      "\u001b[1m4939/4939\u001b[0m \u001b[32m━━━━━━━━━━━━━━━━━━━━\u001b[0m\u001b[37m\u001b[0m \u001b[1m52s\u001b[0m 10ms/step - accuracy: 0.9881 - loss: 0.1037 - val_accuracy: 0.9885 - val_loss: 0.0839\n",
      "Epoch 3/10\n",
      "\u001b[1m4939/4939\u001b[0m \u001b[32m━━━━━━━━━━━━━━━━━━━━\u001b[0m\u001b[37m\u001b[0m \u001b[1m51s\u001b[0m 10ms/step - accuracy: 0.9894 - loss: 0.0876 - val_accuracy: 0.9900 - val_loss: 0.0755\n",
      "Epoch 4/10\n",
      "\u001b[1m4939/4939\u001b[0m \u001b[32m━━━━━━━━━━━━━━━━━━━━\u001b[0m\u001b[37m\u001b[0m \u001b[1m51s\u001b[0m 10ms/step - accuracy: 0.9896 - loss: 0.0816 - val_accuracy: 0.9894 - val_loss: 0.0698\n",
      "Epoch 5/10\n",
      "\u001b[1m4939/4939\u001b[0m \u001b[32m━━━━━━━━━━━━━━━━━━━━\u001b[0m\u001b[37m\u001b[0m \u001b[1m51s\u001b[0m 10ms/step - accuracy: 0.9906 - loss: 0.0760 - val_accuracy: 0.9898 - val_loss: 0.0671\n",
      "Epoch 6/10\n",
      "\u001b[1m4939/4939\u001b[0m \u001b[32m━━━━━━━━━━━━━━━━━━━━\u001b[0m\u001b[37m\u001b[0m \u001b[1m52s\u001b[0m 10ms/step - accuracy: 0.9912 - loss: 0.0723 - val_accuracy: 0.9950 - val_loss: 0.0633\n",
      "Epoch 7/10\n",
      "\u001b[1m4939/4939\u001b[0m \u001b[32m━━━━━━━━━━━━━━━━━━━━\u001b[0m\u001b[37m\u001b[0m \u001b[1m51s\u001b[0m 10ms/step - accuracy: 0.9926 - loss: 0.0669 - val_accuracy: 0.9976 - val_loss: 0.0616\n",
      "Epoch 8/10\n",
      "\u001b[1m4939/4939\u001b[0m \u001b[32m━━━━━━━━━━━━━━━━━━━━\u001b[0m\u001b[37m\u001b[0m \u001b[1m51s\u001b[0m 10ms/step - accuracy: 0.9937 - loss: 0.0646 - val_accuracy: 0.9977 - val_loss: 0.0560\n",
      "Epoch 9/10\n",
      "\u001b[1m4939/4939\u001b[0m \u001b[32m━━━━━━━━━━━━━━━━━━━━\u001b[0m\u001b[37m\u001b[0m \u001b[1m51s\u001b[0m 10ms/step - accuracy: 0.9945 - loss: 0.0609 - val_accuracy: 0.9966 - val_loss: 0.0569\n",
      "Epoch 10/10\n",
      "\u001b[1m4939/4939\u001b[0m \u001b[32m━━━━━━━━━━━━━━━━━━━━\u001b[0m\u001b[37m\u001b[0m \u001b[1m51s\u001b[0m 10ms/step - accuracy: 0.9946 - loss: 0.0599 - val_accuracy: 0.9960 - val_loss: 0.0561\n"
     ]
    },
    {
     "data": {
      "image/png": "[encoded data removed]",
      "text/plain": [
       "<Figure size 640x480 with 1 Axes>"
      ]
     },
     "metadata": {},
     "output_type": "display_data"
    },
    {
     "data": {
      "image/png": "[encoded data removed]",
      "text/plain": [
       "<Figure size 640x480 with 1 Axes>"
      ]
     },
     "metadata": {},
     "output_type": "display_data"
    },
    {
     "name": "stdout",
     "output_type": "stream",
     "text": [
      "\u001b[1m1059/1059\u001b[0m \u001b[32m━━━━━━━━━━━━━━━━━━━━\u001b[0m\u001b[37m\u001b[0m \u001b[1m5s\u001b[0m 5ms/step - accuracy: 0.9961 - loss: 0.0562\n",
      "Test Accuracy: 0.9960\n",
      "\u001b[1m1059/1059\u001b[0m \u001b[32m━━━━━━━━━━━━━━━━━━━━\u001b[0m\u001b[37m\u001b[0m \u001b[1m5s\u001b[0m 5ms/step\n"
     ]
    },
    {
     "data": {
      "image/png": "[encoded data removed]",
      "text/plain": [
       "<Figure size 600x500 with 2 Axes>"
      ]
     },
     "metadata": {},
     "output_type": "display_data"
    },
    {
     "name": "stdout",
     "output_type": "stream",
     "text": [
      "Classification Report:\n",
      "              precision    recall  f1-score   support\n",
      "\n",
      "           0       1.00      0.99      1.00     14657\n",
      "           1       0.99      1.00      1.00     19205\n",
      "\n",
      "    accuracy                           1.00     33862\n",
      "   macro avg       1.00      1.00      1.00     33862\n",
      "weighted avg       1.00      1.00      1.00     33862\n",
      "\n"
     ]
    }
   ],
   "source": [
    "import numpy as np\n",
    "import pandas as pd\n",
    "import matplotlib.pyplot as plt\n",
    "import seaborn as sns\n",
    "from sklearn.model_selection import train_test_split\n",
    "from sklearn.preprocessing import LabelEncoder, StandardScaler\n",
    "from sklearn.metrics import confusion_matrix, classification_report\n",
    "from tensorflow.keras.models import Sequential\n",
    "from tensorflow.keras.layers import Conv1D, MaxPooling1D, Flatten, Dense, Dropout\n",
    "from tensorflow.keras.optimizers import Adam\n",
    "from tensorflow.keras.regularizers import l2\n",
    "\n",
    "# Set seed for reproducibility\n",
    "np.random.seed(42)\n",
    "\n",
    "# Step 1: Load dataset (Assuming df is your dataset)\n",
    "# Replace with your actual dataset\n",
    "# df = pd.read_csv(\"your_dataset.csv\")\n",
    "\n",
    "# Step 2: Preprocess Data\n",
    "# Encode labels\n",
    "label_encoder = LabelEncoder()\n",
    "df[' Label'] = label_encoder.fit_transform(df[' Label'])  # Assuming 'Label' is the target column\n",
    "\n",
    "# Separate features and labels\n",
    "X = df.drop(columns=[' Label'])  # Feature columns\n",
    "y = df[' Label']  # Target column\n",
    "\n",
    "# Normalize the features\n",
    "scaler = StandardScaler()\n",
    "X_scaled = scaler.fit_transform(X)\n",
    "\n",
    "# Reshape data for CNN (assuming features can be treated as a 1D sequence)\n",
    "X_reshaped = X_scaled.reshape(X_scaled.shape[0], X_scaled.shape[1], 1)  # Shape: (samples, features, 1)\n",
    "\n",
    "# Split data into training (70%), validation (15%), and test (15%) sets\n",
    "X_train, X_temp, y_train, y_temp = train_test_split(X_reshaped, y, test_size=0.3, random_state=42)\n",
    "X_val, X_test, y_val, y_test = train_test_split(X_temp, y_temp, test_size=0.5, random_state=42)\n",
    "\n",
    "# Step 3: Define CNN Model\n",
    "model = Sequential([\n",
    "    Conv1D(filters=64, kernel_size=3, activation='relu', kernel_regularizer=l2(0.01), input_shape=(X_train.shape[1], 1)),\n",
    "    MaxPooling1D(pool_size=2),\n",
    "    Conv1D(filters=32, kernel_size=3, activation='relu', kernel_regularizer=l2(0.01)),\n",
    "    MaxPooling1D(pool_size=2),\n",
    "    Conv1D(filters=64, kernel_size=3, activation='relu', kernel_regularizer=l2(0.01)),  # Extra Conv1D layer with L2\n",
    "    Flatten(),\n",
    "    Dense(64, activation='relu', kernel_regularizer=l2(0.01)),\n",
    "    Dropout(0.5),  # Dropout to reduce overfitting\n",
    "    Dense(1, activation='sigmoid')  # Binary classification\n",
    "])\n",
    "\n",
    "# Compile the model\n",
    "model.compile(optimizer=Adam(learning_rate=0.001), loss='binary_crossentropy', metrics=['accuracy'])\n",
    "\n",
    "# Step 4: Train the Model with Validation Data\n",
    "history = model.fit(X_train, y_train, epochs=10, batch_size=32, validation_data=(X_val, y_val))\n",
    "\n",
    "# Step 5: Plot Training vs Validation Accuracy\n",
    "epochs = range(1, len(history.history['accuracy']) + 1)\n",
    "\n",
    "plt.plot(epochs, history.history['accuracy'], label=\"Training Accuracy\", marker=\"o\")\n",
    "plt.plot(epochs, history.history['val_accuracy'], label=\"Validation Accuracy\", marker=\"o\")\n",
    "plt.xlabel(\"Epochs\")\n",
    "plt.ylabel(\"Accuracy\")\n",
    "plt.legend()\n",
    "plt.title(\"Training vs Validation Accuracy\")\n",
    "plt.show()\n",
    "\n",
    "\n",
    "plt.plot(epochs, history.history['loss'], label=\"Training loss\", marker=\"o\")\n",
    "plt.plot(epochs, history.history['val_loss'], label=\"Validation loss\", marker=\"o\")\n",
    "plt.xlabel(\"Epochs\")\n",
    "plt.ylabel(\"Loss Accuracy\")\n",
    "plt.legend()\n",
    "plt.title(\"Training vs Validation loss Accuracy\")\n",
    "plt.show()\n",
    "# Step 6: Evaluate the Model on Test Data\n",
    "test_loss, test_acc = model.evaluate(X_test, y_test)\n",
    "print(f\"Test Accuracy: {test_acc:.4f}\")\n",
    "\n",
    "# Step 7: Predict on Test Data\n",
    "y_pred = model.predict(X_test)\n",
    "y_pred = (y_pred > 0.5).astype(int)  # Convert probabilities to binary labels (0 or 1)\n",
    "\n",
    "# Step 8: Compute Confusion Matrix\n",
    "cm = confusion_matrix(y_test, y_pred)\n",
    "\n",
    "# Step 9: Plot Confusion Matrix\n",
    "plt.figure(figsize=(6, 5))\n",
    "sns.heatmap(cm, annot=True, fmt=\"d\", cmap=\"Blues\", xticklabels=['Negative', 'Positive'], yticklabels=['Negative', 'Positive'])\n",
    "plt.xlabel(\"Predicted\")\n",
    "plt.ylabel(\"Actual\")\n",
    "plt.title(\"Confusion Matrix\")\n",
    "plt.show()\n",
    "\n",
    "# Step 10: Print Classification Report\n",
    "print(\"Classification Report:\")\n",
    "print(classification_report(y_test, y_pred))\n"
   ]
  },
  {
   "cell_type": "code",
   "execution_count": 159,
   "id": "8570b7db-e228-4aa8-9a64-163e0c88a215",
   "metadata": {},
   "outputs": [
    {
     "name": "stdout",
     "output_type": "stream",
     "text": [
      "Training set size: 180596\n",
      "Test set size: 45149\n"
     ]
    }
   ],
   "source": [
    "print(f\"Training set size: {len(y_train)}\")\n",
    "print(f\"Test set size: {len(y_test)}\")\n"
   ]
  },
  {
   "cell_type": "code",
   "execution_count": 162,
   "id": "e42bbb28-8dc8-4123-8bed-0880c385e5e3",
   "metadata": {},
   "outputs": [
    {
     "name": "stdout",
     "output_type": "stream",
     "text": [
      " Label\n",
      "1    128027\n",
      "0     97718\n",
      "Name: count, dtype: int64\n"
     ]
    }
   ],
   "source": [
    "print(df[' Label'].value_counts())"
   ]
  },
  {
   "cell_type": "code",
   "execution_count": null,
   "id": "2fc0d415-a7d2-4648-8186-3c0af30845c4",
   "metadata": {},
   "outputs": [],
   "source": []
  },
  {
   "cell_type": "code",
   "execution_count": null,
   "id": "53bcc2d7-466c-44ed-b837-a8a3a9e57f81",
   "metadata": {},
   "outputs": [],
   "source": []
  },
  {
   "cell_type": "markdown",
   "id": "b16358f9-d3f8-484a-bea4-f76fee44a235",
   "metadata": {},
   "source": [
    "# GOING INTO the PORT SCAN"
   ]
  },
  {
   "cell_type": "code",
   "execution_count": 166,
   "id": "e7eef0a0-d5f1-4919-8f4b-75df762ab76e",
   "metadata": {},
   "outputs": [
    {
     "data": {
      "text/html": [
       "<div>\n",
       "<style scoped>\n",
       "    .dataframe tbody tr th:only-of-type {\n",
       "        vertical-align: middle;\n",
       "    }\n",
       "\n",
       "    .dataframe tbody tr th {\n",
       "        vertical-align: top;\n",
       "    }\n",
       "\n",
       "    .dataframe thead th {\n",
       "        text-align: right;\n",
       "    }\n",
       "</style>\n",
       "<table border=\"1\" class=\"dataframe\">\n",
       "  <thead>\n",
       "    <tr style=\"text-align: right;\">\n",
       "      <th></th>\n",
       "      <th>Flow ID</th>\n",
       "      <th>Source IP</th>\n",
       "      <th>Source Port</th>\n",
       "      <th>Destination IP</th>\n",
       "      <th>Destination Port</th>\n",
       "      <th>Protocol</th>\n",
       "      <th>Timestamp</th>\n",
       "      <th>Flow Duration</th>\n",
       "      <th>Total Fwd Packets</th>\n",
       "      <th>Total Backward Packets</th>\n",
       "      <th>Total Length of Fwd Packets</th>\n",
       "      <th>Total Length of Bwd Packets</th>\n",
       "      <th>Fwd Packet Length Max</th>\n",
       "      <th>Fwd Packet Length Min</th>\n",
       "      <th>Fwd Packet Length Mean</th>\n",
       "      <th>Fwd Packet Length Std</th>\n",
       "      <th>Bwd Packet Length Max</th>\n",
       "      <th>Bwd Packet Length Min</th>\n",
       "      <th>Bwd Packet Length Mean</th>\n",
       "      <th>Bwd Packet Length Std</th>\n",
       "      <th>Flow Bytes/s</th>\n",
       "      <th>Flow Packets/s</th>\n",
       "      <th>Flow IAT Mean</th>\n",
       "      <th>Flow IAT Std</th>\n",
       "      <th>Flow IAT Max</th>\n",
       "      <th>Flow IAT Min</th>\n",
       "      <th>Fwd IAT Total</th>\n",
       "      <th>Fwd IAT Mean</th>\n",
       "      <th>Fwd IAT Std</th>\n",
       "      <th>Fwd IAT Max</th>\n",
       "      <th>Fwd IAT Min</th>\n",
       "      <th>Bwd IAT Total</th>\n",
       "      <th>Bwd IAT Mean</th>\n",
       "      <th>Bwd IAT Std</th>\n",
       "      <th>Bwd IAT Max</th>\n",
       "      <th>Bwd IAT Min</th>\n",
       "      <th>Fwd PSH Flags</th>\n",
       "      <th>Bwd PSH Flags</th>\n",
       "      <th>Fwd URG Flags</th>\n",
       "      <th>Bwd URG Flags</th>\n",
       "      <th>Fwd Header Length</th>\n",
       "      <th>Bwd Header Length</th>\n",
       "      <th>Fwd Packets/s</th>\n",
       "      <th>Bwd Packets/s</th>\n",
       "      <th>Min Packet Length</th>\n",
       "      <th>Max Packet Length</th>\n",
       "      <th>Packet Length Mean</th>\n",
       "      <th>Packet Length Std</th>\n",
       "      <th>Packet Length Variance</th>\n",
       "      <th>FIN Flag Count</th>\n",
       "      <th>SYN Flag Count</th>\n",
       "      <th>RST Flag Count</th>\n",
       "      <th>PSH Flag Count</th>\n",
       "      <th>ACK Flag Count</th>\n",
       "      <th>URG Flag Count</th>\n",
       "      <th>CWE Flag Count</th>\n",
       "      <th>ECE Flag Count</th>\n",
       "      <th>Down/Up Ratio</th>\n",
       "      <th>Average Packet Size</th>\n",
       "      <th>Avg Fwd Segment Size</th>\n",
       "      <th>Avg Bwd Segment Size</th>\n",
       "      <th>Fwd Header Length.1</th>\n",
       "      <th>Fwd Avg Bytes/Bulk</th>\n",
       "      <th>Fwd Avg Packets/Bulk</th>\n",
       "      <th>Fwd Avg Bulk Rate</th>\n",
       "      <th>Bwd Avg Bytes/Bulk</th>\n",
       "      <th>Bwd Avg Packets/Bulk</th>\n",
       "      <th>Bwd Avg Bulk Rate</th>\n",
       "      <th>Subflow Fwd Packets</th>\n",
       "      <th>Subflow Fwd Bytes</th>\n",
       "      <th>Subflow Bwd Packets</th>\n",
       "      <th>Subflow Bwd Bytes</th>\n",
       "      <th>Init_Win_bytes_forward</th>\n",
       "      <th>Init_Win_bytes_backward</th>\n",
       "      <th>act_data_pkt_fwd</th>\n",
       "      <th>min_seg_size_forward</th>\n",
       "      <th>Active Mean</th>\n",
       "      <th>Active Std</th>\n",
       "      <th>Active Max</th>\n",
       "      <th>Active Min</th>\n",
       "      <th>Idle Mean</th>\n",
       "      <th>Idle Std</th>\n",
       "      <th>Idle Max</th>\n",
       "      <th>Idle Min</th>\n",
       "      <th>Label</th>\n",
       "    </tr>\n",
       "  </thead>\n",
       "  <tbody>\n",
       "    <tr>\n",
       "      <th>0</th>\n",
       "      <td>192.168.10.12-192.168.10.50-35396-22-6</td>\n",
       "      <td>192.168.10.12</td>\n",
       "      <td>35396</td>\n",
       "      <td>192.168.10.50</td>\n",
       "      <td>22</td>\n",
       "      <td>6</td>\n",
       "      <td>7/7/2017 1:00</td>\n",
       "      <td>1266342</td>\n",
       "      <td>41</td>\n",
       "      <td>44</td>\n",
       "      <td>2664</td>\n",
       "      <td>6954</td>\n",
       "      <td>456</td>\n",
       "      <td>0</td>\n",
       "      <td>64.97561</td>\n",
       "      <td>109.864573</td>\n",
       "      <td>976</td>\n",
       "      <td>0</td>\n",
       "      <td>158.045455</td>\n",
       "      <td>312.67525</td>\n",
       "      <td>7595.10464</td>\n",
       "      <td>67.122468</td>\n",
       "      <td>15075.5</td>\n",
       "      <td>104051.3997</td>\n",
       "      <td>948537.0</td>\n",
       "      <td>0.0</td>\n",
       "      <td>1266342.0</td>\n",
       "      <td>31658.55</td>\n",
       "      <td>159355.2595</td>\n",
       "      <td>996324.0</td>\n",
       "      <td>2.0</td>\n",
       "      <td>317671.0</td>\n",
       "      <td>7387.697674</td>\n",
       "      <td>19636.44809</td>\n",
       "      <td>104616.0</td>\n",
       "      <td>1.0</td>\n",
       "      <td>0</td>\n",
       "      <td>0</td>\n",
       "      <td>0</td>\n",
       "      <td>0</td>\n",
       "      <td>1328</td>\n",
       "      <td>1424</td>\n",
       "      <td>32.37672</td>\n",
       "      <td>34.745748</td>\n",
       "      <td>0</td>\n",
       "      <td>976</td>\n",
       "      <td>111.837209</td>\n",
       "      <td>239.686848</td>\n",
       "      <td>57449.78495</td>\n",
       "      <td>0</td>\n",
       "      <td>0</td>\n",
       "      <td>0</td>\n",
       "      <td>1</td>\n",
       "      <td>0</td>\n",
       "      <td>0</td>\n",
       "      <td>0</td>\n",
       "      <td>0</td>\n",
       "      <td>1</td>\n",
       "      <td>113.152941</td>\n",
       "      <td>64.97561</td>\n",
       "      <td>158.045455</td>\n",
       "      <td>1328</td>\n",
       "      <td>0</td>\n",
       "      <td>0</td>\n",
       "      <td>0</td>\n",
       "      <td>0</td>\n",
       "      <td>0</td>\n",
       "      <td>0</td>\n",
       "      <td>41</td>\n",
       "      <td>2664</td>\n",
       "      <td>44</td>\n",
       "      <td>6954</td>\n",
       "      <td>29200</td>\n",
       "      <td>243</td>\n",
       "      <td>24</td>\n",
       "      <td>32</td>\n",
       "      <td>0.0</td>\n",
       "      <td>0.0</td>\n",
       "      <td>0.0</td>\n",
       "      <td>0.0</td>\n",
       "      <td>0.0</td>\n",
       "      <td>0.0</td>\n",
       "      <td>0.0</td>\n",
       "      <td>0.0</td>\n",
       "      <td>BENIGN</td>\n",
       "    </tr>\n",
       "  </tbody>\n",
       "</table>\n",
       "</div>"
      ],
      "text/plain": [
       "                                  Flow ID      Source IP   Source Port  \\\n",
       "0  192.168.10.12-192.168.10.50-35396-22-6  192.168.10.12         35396   \n",
       "\n",
       "   Destination IP   Destination Port   Protocol      Timestamp  \\\n",
       "0   192.168.10.50                 22          6  7/7/2017 1:00   \n",
       "\n",
       "    Flow Duration   Total Fwd Packets   Total Backward Packets  \\\n",
       "0         1266342                  41                       44   \n",
       "\n",
       "   Total Length of Fwd Packets   Total Length of Bwd Packets  \\\n",
       "0                         2664                          6954   \n",
       "\n",
       "    Fwd Packet Length Max   Fwd Packet Length Min   Fwd Packet Length Mean  \\\n",
       "0                     456                       0                 64.97561   \n",
       "\n",
       "    Fwd Packet Length Std  Bwd Packet Length Max   Bwd Packet Length Min  \\\n",
       "0              109.864573                    976                       0   \n",
       "\n",
       "    Bwd Packet Length Mean   Bwd Packet Length Std  Flow Bytes/s  \\\n",
       "0               158.045455               312.67525    7595.10464   \n",
       "\n",
       "    Flow Packets/s   Flow IAT Mean   Flow IAT Std   Flow IAT Max  \\\n",
       "0        67.122468         15075.5    104051.3997       948537.0   \n",
       "\n",
       "    Flow IAT Min  Fwd IAT Total   Fwd IAT Mean   Fwd IAT Std   Fwd IAT Max  \\\n",
       "0            0.0      1266342.0       31658.55   159355.2595      996324.0   \n",
       "\n",
       "    Fwd IAT Min  Bwd IAT Total   Bwd IAT Mean   Bwd IAT Std   Bwd IAT Max  \\\n",
       "0           2.0       317671.0    7387.697674   19636.44809      104616.0   \n",
       "\n",
       "    Bwd IAT Min  Fwd PSH Flags   Bwd PSH Flags   Fwd URG Flags  \\\n",
       "0           1.0              0               0               0   \n",
       "\n",
       "    Bwd URG Flags   Fwd Header Length   Bwd Header Length  Fwd Packets/s  \\\n",
       "0               0                1328                1424       32.37672   \n",
       "\n",
       "    Bwd Packets/s   Min Packet Length   Max Packet Length  \\\n",
       "0       34.745748                   0                 976   \n",
       "\n",
       "    Packet Length Mean   Packet Length Std   Packet Length Variance  \\\n",
       "0           111.837209          239.686848              57449.78495   \n",
       "\n",
       "   FIN Flag Count   SYN Flag Count   RST Flag Count   PSH Flag Count  \\\n",
       "0               0                0                0                1   \n",
       "\n",
       "    ACK Flag Count   URG Flag Count   CWE Flag Count   ECE Flag Count  \\\n",
       "0                0                0                0                0   \n",
       "\n",
       "    Down/Up Ratio   Average Packet Size   Avg Fwd Segment Size  \\\n",
       "0               1            113.152941               64.97561   \n",
       "\n",
       "    Avg Bwd Segment Size   Fwd Header Length.1  Fwd Avg Bytes/Bulk  \\\n",
       "0             158.045455                  1328                   0   \n",
       "\n",
       "    Fwd Avg Packets/Bulk   Fwd Avg Bulk Rate   Bwd Avg Bytes/Bulk  \\\n",
       "0                      0                   0                    0   \n",
       "\n",
       "    Bwd Avg Packets/Bulk  Bwd Avg Bulk Rate  Subflow Fwd Packets  \\\n",
       "0                      0                  0                   41   \n",
       "\n",
       "    Subflow Fwd Bytes   Subflow Bwd Packets   Subflow Bwd Bytes  \\\n",
       "0                2664                    44                6954   \n",
       "\n",
       "   Init_Win_bytes_forward   Init_Win_bytes_backward   act_data_pkt_fwd  \\\n",
       "0                   29200                       243                 24   \n",
       "\n",
       "    min_seg_size_forward  Active Mean   Active Std   Active Max   Active Min  \\\n",
       "0                     32          0.0          0.0          0.0          0.0   \n",
       "\n",
       "   Idle Mean   Idle Std   Idle Max   Idle Min   Label  \n",
       "0        0.0        0.0        0.0        0.0  BENIGN  "
      ]
     },
     "execution_count": 166,
     "metadata": {},
     "output_type": "execute_result"
    }
   ],
   "source": [
    "pd.set_option(\"display.max_columns\", None)\n",
    "dataps[:1]"
   ]
  },
  {
   "cell_type": "code",
   "execution_count": 198,
   "id": "89f6fddb-4f2c-42cf-bd20-959a09a11842",
   "metadata": {},
   "outputs": [
    {
     "data": {
      "text/plain": [
       "array(['BENIGN', 'PortScan'], dtype=object)"
      ]
     },
     "execution_count": 198,
     "metadata": {},
     "output_type": "execute_result"
    }
   ],
   "source": [
    "dataps[' Label'].unique()"
   ]
  },
  {
   "cell_type": "code",
   "execution_count": 199,
   "id": "4e96f5bd-8e6c-4079-aa89-752195706952",
   "metadata": {},
   "outputs": [],
   "source": [
    "pd.set_option(\"display.max_columns\", 20)"
   ]
  },
  {
   "cell_type": "code",
   "execution_count": 200,
   "id": "7c7f3d90-7f1d-496e-a9b1-c575030a172b",
   "metadata": {},
   "outputs": [
    {
     "name": "stdout",
     "output_type": "stream",
     "text": [
      "1\n"
     ]
    }
   ],
   "source": [
    "if dataps.columns.tolist() == datadd.columns.tolist() :\n",
    "    print(1)"
   ]
  },
  {
   "cell_type": "code",
   "execution_count": 201,
   "id": "aba303f4-c7e8-452c-acf2-ebfcf56457e3",
   "metadata": {},
   "outputs": [
    {
     "name": "stdout",
     "output_type": "stream",
     "text": [
      "[]\n"
     ]
    }
   ],
   "source": [
    "pd.set_option('display.max_rows', None)\n",
    "nan_locations = dataps.isna()\n",
    "nan_positions = [(dataps.index[row], col) for row, col in zip(*np.where(dataps.isna()))]\n",
    "\n",
    "print(nan_positions)\n"
   ]
  },
  {
   "cell_type": "code",
   "execution_count": 202,
   "id": "6e92bdfb-a35f-4165-98b8-d888cfd0d193",
   "metadata": {},
   "outputs": [
    {
     "name": "stdout",
     "output_type": "stream",
     "text": [
      "Flow Bytes/s updated successfully at specified locations!\n"
     ]
    }
   ],
   "source": [
    "rows_update = [12824, 12827, 14192,40707,52456,56603,76549,76773,225846,237968,238016,239586,259076,259682,253214]\n",
    "\n",
    "for row in rows_update:\n",
    "    dataps.at[row, 'Flow Bytes/s'] = 0\n",
    "dataps.to_csv('D:\\\\R&D\\\\TrafficLabelling\\\\portscan_updated.csv', index=False)  # Use df.to_excel('updated_file.xlsx', index=False) for Excel\n",
    "\n",
    "print(\"Flow Bytes/s updated successfully at specified locations!\")"
   ]
  },
  {
   "cell_type": "code",
   "execution_count": 203,
   "id": "6259ec88-736c-4293-a2a2-ac1b2eeb8b7e",
   "metadata": {},
   "outputs": [
    {
     "name": "stdout",
     "output_type": "stream",
     "text": [
      "[]\n"
     ]
    }
   ],
   "source": [
    "pd.set_option('display.max_rows', None)\n",
    "import numpy as np\n",
    "\n",
    "nan_locations = dataps.isna()\n",
    "nan_positions = [(dataps.index[row], col) for row, col in zip(*np.where(dataps.isna()))]\n",
    "\n",
    "print(nan_positions)\n"
   ]
  },
  {
   "cell_type": "code",
   "execution_count": 53,
   "id": "9cb18238-89b9-493b-8b10-0fd1a833ba45",
   "metadata": {},
   "outputs": [],
   "source": [
    "dd = pd.read_csv('D:\\\\R&D\\\\TrafficLabelling\\\\ddos_updated.csv')\n",
    "ps = pd.read_csv('D:\\\\R&D\\\\TrafficLabelling\\\\portscan_updated.csv')"
   ]
  },
  {
   "cell_type": "code",
   "execution_count": 54,
   "id": "45dac0b5-3997-4611-8e3e-384aa814e4a4",
   "metadata": {},
   "outputs": [],
   "source": [
    "df = pd.concat([dd,ps])\n",
    "df.to_csv('D:\\\\R&D\\\\TrafficLabelling\\\\combineddps.csv')"
   ]
  },
  {
   "cell_type": "code",
   "execution_count": 55,
   "id": "da1ac254-e42d-459c-bfb9-df4162ef021f",
   "metadata": {},
   "outputs": [
    {
     "data": {
      "text/html": [
       "<div>\n",
       "<style scoped>\n",
       "    .dataframe tbody tr th:only-of-type {\n",
       "        vertical-align: middle;\n",
       "    }\n",
       "\n",
       "    .dataframe tbody tr th {\n",
       "        vertical-align: top;\n",
       "    }\n",
       "\n",
       "    .dataframe thead th {\n",
       "        text-align: right;\n",
       "    }\n",
       "</style>\n",
       "<table border=\"1\" class=\"dataframe\">\n",
       "  <thead>\n",
       "    <tr style=\"text-align: right;\">\n",
       "      <th></th>\n",
       "      <th>Unnamed: 0</th>\n",
       "      <th>Flow ID</th>\n",
       "      <th>Source IP</th>\n",
       "      <th>Source Port</th>\n",
       "      <th>Destination IP</th>\n",
       "      <th>Destination Port</th>\n",
       "      <th>Protocol</th>\n",
       "      <th>Timestamp</th>\n",
       "      <th>Flow Duration</th>\n",
       "      <th>Total Fwd Packets</th>\n",
       "      <th>...</th>\n",
       "      <th>min_seg_size_forward</th>\n",
       "      <th>Active Mean</th>\n",
       "      <th>Active Std</th>\n",
       "      <th>Active Max</th>\n",
       "      <th>Active Min</th>\n",
       "      <th>Idle Mean</th>\n",
       "      <th>Idle Std</th>\n",
       "      <th>Idle Max</th>\n",
       "      <th>Idle Min</th>\n",
       "      <th>Label</th>\n",
       "    </tr>\n",
       "  </thead>\n",
       "  <tbody>\n",
       "    <tr>\n",
       "      <th>0</th>\n",
       "      <td>0</td>\n",
       "      <td>192.168.10.5-104.16.207.165-54865-443-6</td>\n",
       "      <td>104.16.207.165</td>\n",
       "      <td>443</td>\n",
       "      <td>192.168.10.5</td>\n",
       "      <td>54865</td>\n",
       "      <td>6</td>\n",
       "      <td>07-07-2017 03:30</td>\n",
       "      <td>3</td>\n",
       "      <td>2</td>\n",
       "      <td>...</td>\n",
       "      <td>20</td>\n",
       "      <td>0.0</td>\n",
       "      <td>0.0</td>\n",
       "      <td>0</td>\n",
       "      <td>0</td>\n",
       "      <td>0.0</td>\n",
       "      <td>0.0</td>\n",
       "      <td>0</td>\n",
       "      <td>0</td>\n",
       "      <td>BENIGN</td>\n",
       "    </tr>\n",
       "  </tbody>\n",
       "</table>\n",
       "<p>1 rows × 86 columns</p>\n",
       "</div>"
      ],
      "text/plain": [
       "   Unnamed: 0                                  Flow ID       Source IP  \\\n",
       "0           0  192.168.10.5-104.16.207.165-54865-443-6  104.16.207.165   \n",
       "\n",
       "    Source Port  Destination IP   Destination Port   Protocol  \\\n",
       "0           443    192.168.10.5              54865          6   \n",
       "\n",
       "          Timestamp   Flow Duration   Total Fwd Packets  ...  \\\n",
       "0  07-07-2017 03:30               3                   2  ...   \n",
       "\n",
       "    min_seg_size_forward  Active Mean   Active Std   Active Max   Active Min  \\\n",
       "0                     20          0.0          0.0            0            0   \n",
       "\n",
       "   Idle Mean   Idle Std   Idle Max   Idle Min   Label  \n",
       "0        0.0        0.0          0          0  BENIGN  \n",
       "\n",
       "[1 rows x 86 columns]"
      ]
     },
     "execution_count": 55,
     "metadata": {},
     "output_type": "execute_result"
    }
   ],
   "source": [
    "df = pd.read_csv('D:\\\\R&D\\\\TrafficLabelling\\\\combineddps.csv')\n",
    "df[:1]"
   ]
  },
  {
   "cell_type": "code",
   "execution_count": 56,
   "id": "6d6b0076-ab13-4fa7-86c6-0d2dd824ad86",
   "metadata": {},
   "outputs": [
    {
     "data": {
      "text/plain": [
       "array(['BENIGN', 'DDoS', 'PortScan'], dtype=object)"
      ]
     },
     "execution_count": 56,
     "metadata": {},
     "output_type": "execute_result"
    }
   ],
   "source": [
    "df[' Label'].unique()"
   ]
  },
  {
   "cell_type": "code",
   "execution_count": 57,
   "id": "9c13e450-e09f-468e-99b3-e8e881a861fc",
   "metadata": {},
   "outputs": [],
   "source": [
    "df = df.drop(['Flow ID', ' Source IP', ' Destination IP', ' Timestamp'], axis=1)"
   ]
  },
  {
   "cell_type": "code",
   "execution_count": 58,
   "id": "8bb352be-6790-42e9-9e28-0690e80a8ceb",
   "metadata": {},
   "outputs": [
    {
     "name": "stderr",
     "output_type": "stream",
     "text": [
      "C:\\CONDA\\envs\\myvenv\\lib\\site-packages\\keras\\src\\layers\\convolutional\\base_conv.py:107: UserWarning: Do not pass an `input_shape`/`input_dim` argument to a layer. When using Sequential models, prefer using an `Input(shape)` object as the first layer in the model instead.\n",
      "  super().__init__(activity_regularizer=activity_regularizer, **kwargs)\n"
     ]
    },
    {
     "name": "stdout",
     "output_type": "stream",
     "text": [
      "Epoch 1/5\n",
      "\u001b[1m11205/11205\u001b[0m \u001b[32m━━━━━━━━━━━━━━━━━━━━\u001b[0m\u001b[37m\u001b[0m \u001b[1m125s\u001b[0m 11ms/step - accuracy: 0.9748 - loss: 0.2786 - val_accuracy: 0.9921 - val_loss: 0.1142\n",
      "Epoch 2/5\n",
      "\u001b[1m11205/11205\u001b[0m \u001b[32m━━━━━━━━━━━━━━━━━━━━\u001b[0m\u001b[37m\u001b[0m \u001b[1m122s\u001b[0m 11ms/step - accuracy: 0.9913 - loss: 0.1096 - val_accuracy: 0.9944 - val_loss: 0.0844\n",
      "Epoch 3/5\n",
      "\u001b[1m11205/11205\u001b[0m \u001b[32m━━━━━━━━━━━━━━━━━━━━\u001b[0m\u001b[37m\u001b[0m \u001b[1m124s\u001b[0m 11ms/step - accuracy: 0.9932 - loss: 0.0899 - val_accuracy: 0.9953 - val_loss: 0.0730\n",
      "Epoch 4/5\n",
      "\u001b[1m11205/11205\u001b[0m \u001b[32m━━━━━━━━━━━━━━━━━━━━\u001b[0m\u001b[37m\u001b[0m \u001b[1m176s\u001b[0m 16ms/step - accuracy: 0.9941 - loss: 0.0801 - val_accuracy: 0.9946 - val_loss: 0.0727\n",
      "Epoch 5/5\n",
      "\u001b[1m11205/11205\u001b[0m \u001b[32m━━━━━━━━━━━━━━━━━━━━\u001b[0m\u001b[37m\u001b[0m \u001b[1m116s\u001b[0m 10ms/step - accuracy: 0.9946 - loss: 0.0746 - val_accuracy: 0.9972 - val_loss: 0.0624\n"
     ]
    },
    {
     "data": {
      "image/png": "[encoded data removed]",
      "text/plain": [
       "<Figure size 640x480 with 1 Axes>"
      ]
     },
     "metadata": {},
     "output_type": "display_data"
    },
    {
     "name": "stdout",
     "output_type": "stream",
     "text": [
      "\u001b[1m2401/2401\u001b[0m \u001b[32m━━━━━━━━━━━━━━━━━━━━\u001b[0m\u001b[37m\u001b[0m \u001b[1m12s\u001b[0m 5ms/step - accuracy: 0.9972 - loss: 0.0612\n",
      "Test Accuracy: 0.9975\n",
      "\u001b[1m2401/2401\u001b[0m \u001b[32m━━━━━━━━━━━━━━━━━━━━\u001b[0m\u001b[37m\u001b[0m \u001b[1m13s\u001b[0m 5ms/step\n"
     ]
    },
    {
     "data": {
      "image/png": "[encoded data removed]",
      "text/plain": [
       "<Figure size 800x600 with 2 Axes>"
      ]
     },
     "metadata": {},
     "output_type": "display_data"
    },
    {
     "name": "stdout",
     "output_type": "stream",
     "text": [
      "Classification Report:\n",
      "              precision    recall  f1-score   support\n",
      "\n",
      "      BENIGN       1.00      1.00      1.00     33704\n",
      "        DDoS       1.00      1.00      1.00     19281\n",
      "    PortScan       1.00      1.00      1.00     23847\n",
      "\n",
      "    accuracy                           1.00     76832\n",
      "   macro avg       1.00      1.00      1.00     76832\n",
      "weighted avg       1.00      1.00      1.00     76832\n",
      "\n"
     ]
    }
   ],
   "source": [
    "import numpy as np\n",
    "import pandas as pd\n",
    "import matplotlib.pyplot as plt\n",
    "import seaborn as sns\n",
    "from sklearn.model_selection import train_test_split\n",
    "from sklearn.preprocessing import LabelEncoder, StandardScaler\n",
    "from sklearn.metrics import confusion_matrix, classification_report\n",
    "from tensorflow.keras.models import Sequential\n",
    "from tensorflow.keras.layers import Conv1D, MaxPooling1D, Flatten, Dense, Dropout\n",
    "from tensorflow.keras.optimizers import Adam\n",
    "from tensorflow.keras.regularizers import l2\n",
    "from tensorflow.keras.utils import to_categorical\n",
    "\n",
    "# Set seed for reproducibility\n",
    "np.random.seed(42)\n",
    "\n",
    "# Step 1: Load dataset (Assuming df is your dataset)\n",
    "# Replace with your actual dataset\n",
    "# df = pd.read_csv(\"your_combined_dataset.csv\")\n",
    "\n",
    "# Step 2: Preprocess Data\n",
    "# Encode labels (Multi-Class)\n",
    "label_encoder = LabelEncoder()\n",
    "df[' Label'] = label_encoder.fit_transform(df[' Label'])  # Converts classes to numerical labels\n",
    "\n",
    "# Separate features and labels\n",
    "X = df.drop(columns=[' Label'])  # Feature columns\n",
    "y = df[' Label']  # Target column\n",
    "\n",
    "# Normalize the features\n",
    "scaler = StandardScaler()\n",
    "X_scaled = scaler.fit_transform(X)\n",
    "\n",
    "# Convert labels to categorical (One-Hot Encoding)\n",
    "num_classes = len(label_encoder.classes_)  # Number of unique attack types\n",
    "y_categorical = to_categorical(y, num_classes)  # Convert to one-hot\n",
    "\n",
    "# Reshape data for CNN\n",
    "X_reshaped = X_scaled.reshape(X_scaled.shape[0], X_scaled.shape[1], 1)  # Shape: (samples, features, 1)\n",
    "\n",
    "# Split data into training (70%), validation (15%), and test (15%) sets\n",
    "X_train, X_temp, y_train, y_temp = train_test_split(X_reshaped, y_categorical, test_size=0.3, random_state=42)\n",
    "X_val, X_test, y_val, y_test = train_test_split(X_temp, y_temp, test_size=0.5, random_state=42)\n",
    "\n",
    "# Step 3: Define CNN Model\n",
    "model = Sequential([\n",
    "    Conv1D(filters=64, kernel_size=3, activation='relu', kernel_regularizer=l2(0.01), input_shape=(X_train.shape[1], 1)),\n",
    "    MaxPooling1D(pool_size=2),\n",
    "    Conv1D(filters=32, kernel_size=3, activation='relu', kernel_regularizer=l2(0.01)),\n",
    "    MaxPooling1D(pool_size=2),\n",
    "    Conv1D(filters=64, kernel_size=3, activation='relu', kernel_regularizer=l2(0.01)),  # Extra Conv1D layer with L2\n",
    "    Flatten(),\n",
    "    Dense(64, activation='relu', kernel_regularizer=l2(0.01)),\n",
    "    Dropout(0.5),  # Dropout to reduce overfitting\n",
    "    Dense(num_classes, activation='softmax')  # Multi-class classification\n",
    "])\n",
    "\n",
    "# Compile the model\n",
    "model.compile(optimizer=Adam(learning_rate=0.001), loss='categorical_crossentropy', metrics=['accuracy'])\n",
    "\n",
    "# Step 4: Train the Model with Validation Data\n",
    "history = model.fit(X_train, y_train, epochs=5, batch_size=32, validation_data=(X_val, y_val))\n",
    "\n",
    "# Step 5: Plot Training vs Validation Accuracy\n",
    "epochs = range(1, len(history.history['accuracy']) + 1)\n",
    "\n",
    "plt.plot(epochs, history.history['accuracy'], label=\"Training Accuracy\", marker=\"o\")\n",
    "plt.plot(epochs, history.history['val_accuracy'], label=\"Validation Accuracy\", marker=\"o\")\n",
    "plt.xlabel(\"Epochs\")\n",
    "plt.ylabel(\"Accuracy\")\n",
    "plt.legend()\n",
    "plt.title(\"Training vs Validation Accuracy\")\n",
    "plt.show()\n",
    "\n",
    "# Step 6: Evaluate the Model on Test Data\n",
    "test_loss, test_acc = model.evaluate(X_test, y_test)\n",
    "print(f\"Test Accuracy: {test_acc:.4f}\")\n",
    "\n",
    "# Step 7: Predict on Test Data\n",
    "y_pred_prob = model.predict(X_test)  # Softmax probabilities\n",
    "y_pred = np.argmax(y_pred_prob, axis=1)  # Convert probabilities to class labels\n",
    "y_true = np.argmax(y_test, axis=1)  # Convert one-hot encoded y_test back to class labels\n",
    "\n",
    "# Step 8: Compute Confusion Matrix\n",
    "cm = confusion_matrix(y_true, y_pred)\n",
    "\n",
    "# Step 9: Plot Confusion Matrix\n",
    "plt.figure(figsize=(8, 6))\n",
    "sns.heatmap(cm, annot=True, fmt=\"d\", cmap=\"Blues\", xticklabels=label_encoder.classes_, yticklabels=label_encoder.classes_)\n",
    "plt.xlabel(\"Predicted Class\")\n",
    "plt.ylabel(\"Actual Class\")\n",
    "plt.title(\"Confusion Matrix for DDoS & Port Scan Attacks\")\n",
    "plt.show()\n",
    "\n",
    "# Step 10: Print Classification Report\n",
    "print(\"Classification Report:\")\n",
    "print(classification_report(y_true, y_pred, target_names=label_encoder.classes_))"
   ]
  },
  {
   "cell_type": "markdown",
   "id": "6346a65e-4fd8-4720-9981-fe01f0b2ab7e",
   "metadata": {},
   "source": [
    "# INfiltration starts from here"
   ]
  },
  {
   "cell_type": "code",
   "execution_count": 6,
   "id": "bc3e413a-5664-4841-b913-00b492e1a639",
   "metadata": {},
   "outputs": [
    {
     "data": {
      "text/html": [
       "<div>\n",
       "<style scoped>\n",
       "    .dataframe tbody tr th:only-of-type {\n",
       "        vertical-align: middle;\n",
       "    }\n",
       "\n",
       "    .dataframe tbody tr th {\n",
       "        vertical-align: top;\n",
       "    }\n",
       "\n",
       "    .dataframe thead th {\n",
       "        text-align: right;\n",
       "    }\n",
       "</style>\n",
       "<table border=\"1\" class=\"dataframe\">\n",
       "  <thead>\n",
       "    <tr style=\"text-align: right;\">\n",
       "      <th></th>\n",
       "      <th>Flow ID</th>\n",
       "      <th>Source IP</th>\n",
       "      <th>Source Port</th>\n",
       "      <th>Destination IP</th>\n",
       "      <th>Destination Port</th>\n",
       "      <th>Protocol</th>\n",
       "      <th>Timestamp</th>\n",
       "      <th>Flow Duration</th>\n",
       "      <th>Total Fwd Packets</th>\n",
       "      <th>Total Backward Packets</th>\n",
       "      <th>...</th>\n",
       "      <th>min_seg_size_forward</th>\n",
       "      <th>Active Mean</th>\n",
       "      <th>Active Std</th>\n",
       "      <th>Active Max</th>\n",
       "      <th>Active Min</th>\n",
       "      <th>Idle Mean</th>\n",
       "      <th>Idle Std</th>\n",
       "      <th>Idle Max</th>\n",
       "      <th>Idle Min</th>\n",
       "      <th>Label</th>\n",
       "    </tr>\n",
       "  </thead>\n",
       "  <tbody>\n",
       "    <tr>\n",
       "      <th>0</th>\n",
       "      <td>False</td>\n",
       "      <td>False</td>\n",
       "      <td>False</td>\n",
       "      <td>False</td>\n",
       "      <td>False</td>\n",
       "      <td>False</td>\n",
       "      <td>False</td>\n",
       "      <td>False</td>\n",
       "      <td>False</td>\n",
       "      <td>False</td>\n",
       "      <td>...</td>\n",
       "      <td>False</td>\n",
       "      <td>False</td>\n",
       "      <td>False</td>\n",
       "      <td>False</td>\n",
       "      <td>False</td>\n",
       "      <td>False</td>\n",
       "      <td>False</td>\n",
       "      <td>False</td>\n",
       "      <td>False</td>\n",
       "      <td>False</td>\n",
       "    </tr>\n",
       "    <tr>\n",
       "      <th>1</th>\n",
       "      <td>False</td>\n",
       "      <td>False</td>\n",
       "      <td>False</td>\n",
       "      <td>False</td>\n",
       "      <td>False</td>\n",
       "      <td>False</td>\n",
       "      <td>False</td>\n",
       "      <td>False</td>\n",
       "      <td>False</td>\n",
       "      <td>False</td>\n",
       "      <td>...</td>\n",
       "      <td>False</td>\n",
       "      <td>False</td>\n",
       "      <td>False</td>\n",
       "      <td>False</td>\n",
       "      <td>False</td>\n",
       "      <td>False</td>\n",
       "      <td>False</td>\n",
       "      <td>False</td>\n",
       "      <td>False</td>\n",
       "      <td>False</td>\n",
       "    </tr>\n",
       "    <tr>\n",
       "      <th>2</th>\n",
       "      <td>False</td>\n",
       "      <td>False</td>\n",
       "      <td>False</td>\n",
       "      <td>False</td>\n",
       "      <td>False</td>\n",
       "      <td>False</td>\n",
       "      <td>False</td>\n",
       "      <td>False</td>\n",
       "      <td>False</td>\n",
       "      <td>False</td>\n",
       "      <td>...</td>\n",
       "      <td>False</td>\n",
       "      <td>False</td>\n",
       "      <td>False</td>\n",
       "      <td>False</td>\n",
       "      <td>False</td>\n",
       "      <td>False</td>\n",
       "      <td>False</td>\n",
       "      <td>False</td>\n",
       "      <td>False</td>\n",
       "      <td>False</td>\n",
       "    </tr>\n",
       "    <tr>\n",
       "      <th>3</th>\n",
       "      <td>False</td>\n",
       "      <td>False</td>\n",
       "      <td>False</td>\n",
       "      <td>False</td>\n",
       "      <td>False</td>\n",
       "      <td>False</td>\n",
       "      <td>False</td>\n",
       "      <td>False</td>\n",
       "      <td>False</td>\n",
       "      <td>False</td>\n",
       "      <td>...</td>\n",
       "      <td>False</td>\n",
       "      <td>False</td>\n",
       "      <td>False</td>\n",
       "      <td>False</td>\n",
       "      <td>False</td>\n",
       "      <td>False</td>\n",
       "      <td>False</td>\n",
       "      <td>False</td>\n",
       "      <td>False</td>\n",
       "      <td>False</td>\n",
       "    </tr>\n",
       "    <tr>\n",
       "      <th>4</th>\n",
       "      <td>False</td>\n",
       "      <td>False</td>\n",
       "      <td>False</td>\n",
       "      <td>False</td>\n",
       "      <td>False</td>\n",
       "      <td>False</td>\n",
       "      <td>False</td>\n",
       "      <td>False</td>\n",
       "      <td>False</td>\n",
       "      <td>False</td>\n",
       "      <td>...</td>\n",
       "      <td>False</td>\n",
       "      <td>False</td>\n",
       "      <td>False</td>\n",
       "      <td>False</td>\n",
       "      <td>False</td>\n",
       "      <td>False</td>\n",
       "      <td>False</td>\n",
       "      <td>False</td>\n",
       "      <td>False</td>\n",
       "      <td>False</td>\n",
       "    </tr>\n",
       "    <tr>\n",
       "      <th>...</th>\n",
       "      <td>...</td>\n",
       "      <td>...</td>\n",
       "      <td>...</td>\n",
       "      <td>...</td>\n",
       "      <td>...</td>\n",
       "      <td>...</td>\n",
       "      <td>...</td>\n",
       "      <td>...</td>\n",
       "      <td>...</td>\n",
       "      <td>...</td>\n",
       "      <td>...</td>\n",
       "      <td>...</td>\n",
       "      <td>...</td>\n",
       "      <td>...</td>\n",
       "      <td>...</td>\n",
       "      <td>...</td>\n",
       "      <td>...</td>\n",
       "      <td>...</td>\n",
       "      <td>...</td>\n",
       "      <td>...</td>\n",
       "      <td>...</td>\n",
       "    </tr>\n",
       "    <tr>\n",
       "      <th>288597</th>\n",
       "      <td>False</td>\n",
       "      <td>False</td>\n",
       "      <td>False</td>\n",
       "      <td>False</td>\n",
       "      <td>False</td>\n",
       "      <td>False</td>\n",
       "      <td>False</td>\n",
       "      <td>False</td>\n",
       "      <td>False</td>\n",
       "      <td>False</td>\n",
       "      <td>...</td>\n",
       "      <td>False</td>\n",
       "      <td>False</td>\n",
       "      <td>False</td>\n",
       "      <td>False</td>\n",
       "      <td>False</td>\n",
       "      <td>False</td>\n",
       "      <td>False</td>\n",
       "      <td>False</td>\n",
       "      <td>False</td>\n",
       "      <td>False</td>\n",
       "    </tr>\n",
       "    <tr>\n",
       "      <th>288598</th>\n",
       "      <td>False</td>\n",
       "      <td>False</td>\n",
       "      <td>False</td>\n",
       "      <td>False</td>\n",
       "      <td>False</td>\n",
       "      <td>False</td>\n",
       "      <td>False</td>\n",
       "      <td>False</td>\n",
       "      <td>False</td>\n",
       "      <td>False</td>\n",
       "      <td>...</td>\n",
       "      <td>False</td>\n",
       "      <td>False</td>\n",
       "      <td>False</td>\n",
       "      <td>False</td>\n",
       "      <td>False</td>\n",
       "      <td>False</td>\n",
       "      <td>False</td>\n",
       "      <td>False</td>\n",
       "      <td>False</td>\n",
       "      <td>False</td>\n",
       "    </tr>\n",
       "    <tr>\n",
       "      <th>288599</th>\n",
       "      <td>False</td>\n",
       "      <td>False</td>\n",
       "      <td>False</td>\n",
       "      <td>False</td>\n",
       "      <td>False</td>\n",
       "      <td>False</td>\n",
       "      <td>False</td>\n",
       "      <td>False</td>\n",
       "      <td>False</td>\n",
       "      <td>False</td>\n",
       "      <td>...</td>\n",
       "      <td>False</td>\n",
       "      <td>False</td>\n",
       "      <td>False</td>\n",
       "      <td>False</td>\n",
       "      <td>False</td>\n",
       "      <td>False</td>\n",
       "      <td>False</td>\n",
       "      <td>False</td>\n",
       "      <td>False</td>\n",
       "      <td>False</td>\n",
       "    </tr>\n",
       "    <tr>\n",
       "      <th>288600</th>\n",
       "      <td>False</td>\n",
       "      <td>False</td>\n",
       "      <td>False</td>\n",
       "      <td>False</td>\n",
       "      <td>False</td>\n",
       "      <td>False</td>\n",
       "      <td>False</td>\n",
       "      <td>False</td>\n",
       "      <td>False</td>\n",
       "      <td>False</td>\n",
       "      <td>...</td>\n",
       "      <td>False</td>\n",
       "      <td>False</td>\n",
       "      <td>False</td>\n",
       "      <td>False</td>\n",
       "      <td>False</td>\n",
       "      <td>False</td>\n",
       "      <td>False</td>\n",
       "      <td>False</td>\n",
       "      <td>False</td>\n",
       "      <td>False</td>\n",
       "    </tr>\n",
       "    <tr>\n",
       "      <th>288601</th>\n",
       "      <td>False</td>\n",
       "      <td>False</td>\n",
       "      <td>False</td>\n",
       "      <td>False</td>\n",
       "      <td>False</td>\n",
       "      <td>False</td>\n",
       "      <td>False</td>\n",
       "      <td>False</td>\n",
       "      <td>False</td>\n",
       "      <td>False</td>\n",
       "      <td>...</td>\n",
       "      <td>False</td>\n",
       "      <td>False</td>\n",
       "      <td>False</td>\n",
       "      <td>False</td>\n",
       "      <td>False</td>\n",
       "      <td>False</td>\n",
       "      <td>False</td>\n",
       "      <td>False</td>\n",
       "      <td>False</td>\n",
       "      <td>False</td>\n",
       "    </tr>\n",
       "  </tbody>\n",
       "</table>\n",
       "<p>288602 rows × 85 columns</p>\n",
       "</div>"
      ],
      "text/plain": [
       "        Flow ID   Source IP   Source Port   Destination IP   Destination Port  \\\n",
       "0         False       False         False            False              False   \n",
       "1         False       False         False            False              False   \n",
       "2         False       False         False            False              False   \n",
       "3         False       False         False            False              False   \n",
       "4         False       False         False            False              False   \n",
       "...         ...         ...           ...              ...                ...   \n",
       "288597    False       False         False            False              False   \n",
       "288598    False       False         False            False              False   \n",
       "288599    False       False         False            False              False   \n",
       "288600    False       False         False            False              False   \n",
       "288601    False       False         False            False              False   \n",
       "\n",
       "         Protocol   Timestamp   Flow Duration   Total Fwd Packets  \\\n",
       "0           False       False           False               False   \n",
       "1           False       False           False               False   \n",
       "2           False       False           False               False   \n",
       "3           False       False           False               False   \n",
       "4           False       False           False               False   \n",
       "...           ...         ...             ...                 ...   \n",
       "288597      False       False           False               False   \n",
       "288598      False       False           False               False   \n",
       "288599      False       False           False               False   \n",
       "288600      False       False           False               False   \n",
       "288601      False       False           False               False   \n",
       "\n",
       "         Total Backward Packets  ...   min_seg_size_forward  Active Mean  \\\n",
       "0                         False  ...                  False        False   \n",
       "1                         False  ...                  False        False   \n",
       "2                         False  ...                  False        False   \n",
       "3                         False  ...                  False        False   \n",
       "4                         False  ...                  False        False   \n",
       "...                         ...  ...                    ...          ...   \n",
       "288597                    False  ...                  False        False   \n",
       "288598                    False  ...                  False        False   \n",
       "288599                    False  ...                  False        False   \n",
       "288600                    False  ...                  False        False   \n",
       "288601                    False  ...                  False        False   \n",
       "\n",
       "         Active Std   Active Max   Active Min  Idle Mean   Idle Std  \\\n",
       "0             False        False        False      False      False   \n",
       "1             False        False        False      False      False   \n",
       "2             False        False        False      False      False   \n",
       "3             False        False        False      False      False   \n",
       "4             False        False        False      False      False   \n",
       "...             ...          ...          ...        ...        ...   \n",
       "288597        False        False        False      False      False   \n",
       "288598        False        False        False      False      False   \n",
       "288599        False        False        False      False      False   \n",
       "288600        False        False        False      False      False   \n",
       "288601        False        False        False      False      False   \n",
       "\n",
       "         Idle Max   Idle Min   Label  \n",
       "0           False      False   False  \n",
       "1           False      False   False  \n",
       "2           False      False   False  \n",
       "3           False      False   False  \n",
       "4           False      False   False  \n",
       "...           ...        ...     ...  \n",
       "288597      False      False   False  \n",
       "288598      False      False   False  \n",
       "288599      False      False   False  \n",
       "288600      False      False   False  \n",
       "288601      False      False   False  \n",
       "\n",
       "[288602 rows x 85 columns]"
      ]
     },
     "execution_count": 6,
     "metadata": {},
     "output_type": "execute_result"
    }
   ],
   "source": [
    "dataif.isna()"
   ]
  },
  {
   "cell_type": "code",
   "execution_count": 10,
   "id": "14a5c120-d335-4533-b5a0-cf5f990865fa",
   "metadata": {},
   "outputs": [
    {
     "name": "stdout",
     "output_type": "stream",
     "text": [
      "[(18639, 20), (54760, 20), (74624, 20), (91230, 20), (93282, 20), (99102, 20), (104251, 20), (104574, 20), (105056, 20), (107998, 20), (115661, 20), (118200, 20), (124172, 20), (195126, 20), (197610, 20), (220268, 20), (236709, 20), (246078, 20)]\n"
     ]
    }
   ],
   "source": [
    "import numpy as np\n",
    "\n",
    "nan_locations = dataif.isna()\n",
    "nan_positions = [(dataif.index[row], col) for row, col in zip(*np.where(dataif.isna()))]\n",
    "\n",
    "print(nan_positions)"
   ]
  },
  {
   "cell_type": "code",
   "execution_count": 12,
   "id": "4c2452d0-3cab-401e-b896-8ca3c0e28846",
   "metadata": {},
   "outputs": [
    {
     "data": {
      "text/plain": [
       "'Flow Bytes/s'"
      ]
     },
     "execution_count": 12,
     "metadata": {},
     "output_type": "execute_result"
    }
   ],
   "source": [
    "dataif.columns[20]"
   ]
  },
  {
   "cell_type": "code",
   "execution_count": 13,
   "id": "58967fc7-8ed8-4594-92e5-eb8418a6e55c",
   "metadata": {},
   "outputs": [
    {
     "name": "stdout",
     "output_type": "stream",
     "text": [
      "Flow Bytes/s updated successfully at specified locations!\n"
     ]
    }
   ],
   "source": [
    "import pandas as pd\n",
    "# List of row indices to update\n",
    "rows_to_update = [18639, 54760, 74624, 91230, 93282, 99102, 104251, 104574, 105056, 107998, 115661, 118200, 124172, 195126, 197610, 220268, 236709, 246078]\n",
    "\n",
    "# Compute Flow Bytes/s only for the selected rows\n",
    "for row in rows_to_update:\n",
    "    datadd.at[row,'Flow Bytes/s'] = 0\n",
    "\n",
    "# Save the updated file\n",
    "dataif.to_csv('D:\\\\R&D\\\\TrafficLabelling\\\\infiltration_updated.csv', index=False)  # Use df.to_excel('updated_file.xlsx', index=False) for Excel\n",
    "\n",
    "print(\"Flow Bytes/s updated successfully at specified locations!\")\n"
   ]
  },
  {
   "cell_type": "code",
   "execution_count": 14,
   "id": "ec8716b1-7d11-4565-aa17-ed17d86df3b0",
   "metadata": {},
   "outputs": [
    {
     "data": {
      "text/plain": [
       "array(['BENIGN'], dtype=object)"
      ]
     },
     "execution_count": 14,
     "metadata": {},
     "output_type": "execute_result"
    }
   ],
   "source": [
    "datamon = pd.read_csv('D:\\\\R&D\\\\TrafficLabelling\\\\Monday-WorkingHours.pcap_ISCX.csv')\n",
    "datamon[' Label'].unique()"
   ]
  },
  {
   "cell_type": "code",
   "execution_count": 4,
   "id": "19053256-e756-41e0-a12c-9e6c00ae87da",
   "metadata": {},
   "outputs": [
    {
     "data": {
      "text/plain": [
       "array(['BENIGN', 'FTP-Patator', 'SSH-Patator'], dtype=object)"
      ]
     },
     "execution_count": 4,
     "metadata": {},
     "output_type": "execute_result"
    }
   ],
   "source": [
    "datatue = pd.read_csv('D:\\\\R&D\\\\TrafficLabelling\\\\Tuesday-WorkingHours.pcap_ISCX.csv')\n",
    "datatue[' Label'].unique()"
   ]
  },
  {
   "cell_type": "code",
   "execution_count": 5,
   "id": "8c634b31-a5ad-4610-9bcc-df924c8b4afd",
   "metadata": {},
   "outputs": [
    {
     "data": {
      "text/plain": [
       "array(['BENIGN', 'DoS slowloris', 'DoS Slowhttptest', 'DoS Hulk',\n",
       "       'DoS GoldenEye', 'Heartbleed'], dtype=object)"
      ]
     },
     "execution_count": 5,
     "metadata": {},
     "output_type": "execute_result"
    }
   ],
   "source": [
    "datawed = pd.read_csv('D:\\\\R&D\\\\TrafficLabelling\\\\Wednesday-workingHours.pcap_ISCX.csv')\n",
    "datawed[' Label'].unique()"
   ]
  },
  {
   "cell_type": "code",
   "execution_count": 6,
   "id": "6d96fd0d-7026-416f-985a-debdd50d2bc7",
   "metadata": {},
   "outputs": [],
   "source": [
    "#datathr = pd.read_csv('D:\\\\R&D\\\\TrafficLabelling\\\\Thursday-WorkingHours-Morning-WebAttacks.pcap_ISCX.csv')\n",
    "#datawed[' Label'].unique()"
   ]
  },
  {
   "cell_type": "code",
   "execution_count": 7,
   "id": "daaa0cb0-04f3-4b05-8c10-97d220a859cc",
   "metadata": {},
   "outputs": [
    {
     "data": {
      "text/plain": [
       "array(['BENIGN', 'Bot'], dtype=object)"
      ]
     },
     "execution_count": 7,
     "metadata": {},
     "output_type": "execute_result"
    }
   ],
   "source": [
    "datafri = pd.read_csv('D:\\\\R&D\\\\TrafficLabelling\\\\Friday-WorkingHours-Morning.pcap_ISCX.csv')\n",
    "datafri[' Label'].unique()"
   ]
  },
  {
   "cell_type": "code",
   "execution_count": 15,
   "id": "982cb21f-a6b5-471d-bab7-68f6e53437c4",
   "metadata": {},
   "outputs": [],
   "source": [
    "datacom = pd.read_csv('D:\\\\R&D\\\\TrafficLabelling\\\\updated\\\\combineddps.csv')"
   ]
  },
  {
   "cell_type": "code",
   "execution_count": 16,
   "id": "6b605f8b-e973-4a30-818e-832d1f6b1b0b",
   "metadata": {},
   "outputs": [
    {
     "data": {
      "text/plain": [
       "array(['BENIGN', 'DDoS', 'PortScan'], dtype=object)"
      ]
     },
     "execution_count": 16,
     "metadata": {},
     "output_type": "execute_result"
    }
   ],
   "source": [
    "datacom[' Label'].unique()"
   ]
  },
  {
   "cell_type": "code",
   "execution_count": 17,
   "id": "375984fe-aaf8-464c-ba81-4bf24d2ad523",
   "metadata": {},
   "outputs": [],
   "source": [
    "datainf = pd.read_csv('D:\\\\R&D\\\\TrafficLabelling\\\\updated\\\\infiltration_updated.csv')"
   ]
  },
  {
   "cell_type": "code",
   "execution_count": 18,
   "id": "1d074ca6-c426-4f0b-8342-f9ddf0f77a94",
   "metadata": {},
   "outputs": [
    {
     "data": {
      "text/plain": [
       "array(['BENIGN', 'Infiltration'], dtype=object)"
      ]
     },
     "execution_count": 18,
     "metadata": {},
     "output_type": "execute_result"
    }
   ],
   "source": [
    "datainf[' Label'].unique()"
   ]
  },
  {
   "cell_type": "code",
   "execution_count": 19,
   "id": "b31281db-81ef-477f-ae82-4ba08c1508f5",
   "metadata": {},
   "outputs": [],
   "source": [
    "combi = pd.concat([datacom, datainf], ignore_index= True);"
   ]
  },
  {
   "cell_type": "code",
   "execution_count": 20,
   "id": "6c2557cb-cdd4-44ac-8b95-340333125c15",
   "metadata": {},
   "outputs": [],
   "source": [
    "combi.to_csv(r'D:\\\\R&D\\\\TrafficLabelling\\\\updated\\\\combineddpsin.csv')"
   ]
  },
  {
   "cell_type": "code",
   "execution_count": 22,
   "id": "0bd930f4-269a-48c8-b0e3-51a7d452960d",
   "metadata": {},
   "outputs": [
    {
     "data": {
      "text/plain": [
       "array(['BENIGN', 'DDoS', 'PortScan', 'Infiltration'], dtype=object)"
      ]
     },
     "execution_count": 22,
     "metadata": {},
     "output_type": "execute_result"
    }
   ],
   "source": [
    "combi[' Label'].unique()"
   ]
  },
  {
   "cell_type": "code",
   "execution_count": null,
   "id": "498b0245-21f7-4494-a34c-2d9363fa343b",
   "metadata": {},
   "outputs": [],
   "source": []
  }
 ],
 "metadata": {
  "kernelspec": {
   "display_name": "Python 3 (ipykernel)",
   "language": "python",
   "name": "python3"
  },
  "language_info": {
   "codemirror_mode": {
    "name": "ipython",
    "version": 3
   },
   "file_extension": ".py",
   "mimetype": "text/x-python",
   "name": "python",
   "nbconvert_exporter": "python",
   "pygments_lexer": "ipython3",
   "version": "3.10.15"
  },
  "widgets": {
   "application/vnd.jupyter.widget-state+json": {
    "state": {},
    "version_major": 2,
    "version_minor": 0
   }
  }
 },
 "nbformat": 4,
 "nbformat_minor": 5
}
